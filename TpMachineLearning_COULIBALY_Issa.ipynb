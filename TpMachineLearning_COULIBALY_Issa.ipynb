{
 "cells": [
  {
   "cell_type": "markdown",
   "metadata": {
    "collapsed": false
   },
   "source": [
    "# TP Machine learning à rendre - COULIBALY ISSA - ENSIIE"
   ]
  },
  {
   "cell_type": "markdown",
   "metadata": {
    "collapsed": false
   },
   "source": [
    "## Sujet: Reconnaissance automatique des chiffres manuscrites 7 et 9"
   ]
  },
  {
   "cell_type": "markdown",
   "metadata": {
    "collapsed": false
   },
   "source": [
    "### Par COULIBALY Issa -ENSIIE"
   ]
  },
  {
   "cell_type": "markdown",
   "metadata": {
    "collapsed": false
   },
   "source": [
    "#### I-Chargement des données"
   ]
  },
  {
   "cell_type": "code",
   "execution_count": 1,
   "metadata": {
    "collapsed": false
   },
   "outputs": [
   ],
   "source": [
    "library(ElemStatLearn)\n",
    "data.train=as.data.frame(zip.train)\n",
    "data.test=as.data.frame(zip.test)"
   ]
  },
  {
   "cell_type": "markdown",
   "metadata": {
    "collapsed": false
   },
   "source": [
    "#### II-Analysons les données train et test"
   ]
  },
  {
   "cell_type": "code",
   "execution_count": 2,
   "metadata": {
    "collapsed": false,
    "scrolled": true
   },
   "outputs": [
    {
     "name": "stderr",
     "output_type": "stream",
     "text": [
      "WARNING: Some output was deleted.\n"
     ]
    }
   ],
   "source": [
    "head(data.train)"
   ]
  },
  {
   "cell_type": "code",
   "execution_count": 3,
   "metadata": {
    "collapsed": false
   },
   "outputs": [
    {
     "data": {
      "text/html": [
       "<ol class=list-inline>\n",
       "\t<li>7291</li>\n",
       "\t<li>257</li>\n",
       "</ol>\n"
      ],
      "text/latex": [
       "\\begin{enumerate*}\n",
       "\\item 7291\n",
       "\\item 257\n",
       "\\end{enumerate*}\n"
      ],
      "text/markdown": [
       "1. 7291\n",
       "2. 257\n",
       "\n",
       "\n"
      ],
      "text/plain": [
       "[1] 7291  257"
      ]
     },
     "execution_count": 3,
     "metadata": {
     },
     "output_type": "execute_result"
    }
   ],
   "source": [
    "dim(data.train)"
   ]
  },
  {
   "cell_type": "code",
   "execution_count": 4,
   "metadata": {
    "collapsed": false
   },
   "outputs": [
    {
     "data": {
      "text/html": [
       "7291"
      ],
      "text/latex": [
       "7291"
      ],
      "text/markdown": [
       "7291"
      ],
      "text/plain": [
       "[1] 7291"
      ]
     },
     "execution_count": 4,
     "metadata": {
     },
     "output_type": "execute_result"
    }
   ],
   "source": [
    "nrow(data.train)"
   ]
  },
  {
   "cell_type": "code",
   "execution_count": 5,
   "metadata": {
    "collapsed": false
   },
   "outputs": [
    {
     "data": {
      "text/html": [
       "257"
      ],
      "text/latex": [
       "257"
      ],
      "text/markdown": [
       "257"
      ],
      "text/plain": [
       "[1] 257"
      ]
     },
     "execution_count": 5,
     "metadata": {
     },
     "output_type": "execute_result"
    }
   ],
   "source": [
    "ncol(data.train)"
   ]
  },
  {
   "cell_type": "code",
   "execution_count": 6,
   "metadata": {
    "collapsed": false
   },
   "outputs": [
    {
     "data": {
      "text/html": [
       "<ol class=list-inline>\n",
       "\t<li>'V1'</li>\n",
       "\t<li>'V2'</li>\n",
       "\t<li>'V3'</li>\n",
       "\t<li>'V4'</li>\n",
       "\t<li>'V5'</li>\n",
       "\t<li>'V6'</li>\n",
       "\t<li>'V7'</li>\n",
       "\t<li>'V8'</li>\n",
       "\t<li>'V9'</li>\n",
       "\t<li>'V10'</li>\n",
       "\t<li>'V11'</li>\n",
       "\t<li>'V12'</li>\n",
       "\t<li>'V13'</li>\n",
       "\t<li>'V14'</li>\n",
       "\t<li>'V15'</li>\n",
       "\t<li>'V16'</li>\n",
       "\t<li>'V17'</li>\n",
       "\t<li>'V18'</li>\n",
       "\t<li>'V19'</li>\n",
       "\t<li>'V20'</li>\n",
       "\t<li>'V21'</li>\n",
       "\t<li>'V22'</li>\n",
       "\t<li>'V23'</li>\n",
       "\t<li>'V24'</li>\n",
       "\t<li>'V25'</li>\n",
       "\t<li>'V26'</li>\n",
       "\t<li>'V27'</li>\n",
       "\t<li>'V28'</li>\n",
       "\t<li>'V29'</li>\n",
       "\t<li>'V30'</li>\n",
       "\t<li>'V31'</li>\n",
       "\t<li>'V32'</li>\n",
       "\t<li>'V33'</li>\n",
       "\t<li>'V34'</li>\n",
       "\t<li>'V35'</li>\n",
       "\t<li>'V36'</li>\n",
       "\t<li>'V37'</li>\n",
       "\t<li>'V38'</li>\n",
       "\t<li>'V39'</li>\n",
       "\t<li>'V40'</li>\n",
       "\t<li>'V41'</li>\n",
       "\t<li>'V42'</li>\n",
       "\t<li>'V43'</li>\n",
       "\t<li>'V44'</li>\n",
       "\t<li>'V45'</li>\n",
       "\t<li>'V46'</li>\n",
       "\t<li>'V47'</li>\n",
       "\t<li>'V48'</li>\n",
       "\t<li>'V49'</li>\n",
       "\t<li>'V50'</li>\n",
       "\t<li>'V51'</li>\n",
       "\t<li>'V52'</li>\n",
       "\t<li>'V53'</li>\n",
       "\t<li>'V54'</li>\n",
       "\t<li>'V55'</li>\n",
       "\t<li>'V56'</li>\n",
       "\t<li>'V57'</li>\n",
       "\t<li>'V58'</li>\n",
       "\t<li>'V59'</li>\n",
       "\t<li>'V60'</li>\n",
       "\t<li>'V61'</li>\n",
       "\t<li>'V62'</li>\n",
       "\t<li>'V63'</li>\n",
       "\t<li>'V64'</li>\n",
       "\t<li>'V65'</li>\n",
       "\t<li>'V66'</li>\n",
       "\t<li>'V67'</li>\n",
       "\t<li>'V68'</li>\n",
       "\t<li>'V69'</li>\n",
       "\t<li>'V70'</li>\n",
       "\t<li>'V71'</li>\n",
       "\t<li>'V72'</li>\n",
       "\t<li>'V73'</li>\n",
       "\t<li>'V74'</li>\n",
       "\t<li>'V75'</li>\n",
       "\t<li>'V76'</li>\n",
       "\t<li>'V77'</li>\n",
       "\t<li>'V78'</li>\n",
       "\t<li>'V79'</li>\n",
       "\t<li>'V80'</li>\n",
       "\t<li>'V81'</li>\n",
       "\t<li>'V82'</li>\n",
       "\t<li>'V83'</li>\n",
       "\t<li>'V84'</li>\n",
       "\t<li>'V85'</li>\n",
       "\t<li>'V86'</li>\n",
       "\t<li>'V87'</li>\n",
       "\t<li>'V88'</li>\n",
       "\t<li>'V89'</li>\n",
       "\t<li>'V90'</li>\n",
       "\t<li>'V91'</li>\n",
       "\t<li>'V92'</li>\n",
       "\t<li>'V93'</li>\n",
       "\t<li>'V94'</li>\n",
       "\t<li>'V95'</li>\n",
       "\t<li>'V96'</li>\n",
       "\t<li>'V97'</li>\n",
       "\t<li>'V98'</li>\n",
       "\t<li>'V99'</li>\n",
       "\t<li>'V100'</li>\n",
       "\t<li>'V101'</li>\n",
       "\t<li>'V102'</li>\n",
       "\t<li>'V103'</li>\n",
       "\t<li>'V104'</li>\n",
       "\t<li>'V105'</li>\n",
       "\t<li>'V106'</li>\n",
       "\t<li>'V107'</li>\n",
       "\t<li>'V108'</li>\n",
       "\t<li>'V109'</li>\n",
       "\t<li>'V110'</li>\n",
       "\t<li>'V111'</li>\n",
       "\t<li>'V112'</li>\n",
       "\t<li>'V113'</li>\n",
       "\t<li>'V114'</li>\n",
       "\t<li>'V115'</li>\n",
       "\t<li>'V116'</li>\n",
       "\t<li>'V117'</li>\n",
       "\t<li>'V118'</li>\n",
       "\t<li>'V119'</li>\n",
       "\t<li>'V120'</li>\n",
       "\t<li>'V121'</li>\n",
       "\t<li>'V122'</li>\n",
       "\t<li>'V123'</li>\n",
       "\t<li>'V124'</li>\n",
       "\t<li>'V125'</li>\n",
       "\t<li>'V126'</li>\n",
       "\t<li>'V127'</li>\n",
       "\t<li>'V128'</li>\n",
       "\t<li>'V129'</li>\n",
       "\t<li>'V130'</li>\n",
       "\t<li>'V131'</li>\n",
       "\t<li>'V132'</li>\n",
       "\t<li>'V133'</li>\n",
       "\t<li>'V134'</li>\n",
       "\t<li>'V135'</li>\n",
       "\t<li>'V136'</li>\n",
       "\t<li>'V137'</li>\n",
       "\t<li>'V138'</li>\n",
       "\t<li>'V139'</li>\n",
       "\t<li>'V140'</li>\n",
       "\t<li>'V141'</li>\n",
       "\t<li>'V142'</li>\n",
       "\t<li>'V143'</li>\n",
       "\t<li>'V144'</li>\n",
       "\t<li>'V145'</li>\n",
       "\t<li>'V146'</li>\n",
       "\t<li>'V147'</li>\n",
       "\t<li>'V148'</li>\n",
       "\t<li>'V149'</li>\n",
       "\t<li>'V150'</li>\n",
       "\t<li>'V151'</li>\n",
       "\t<li>'V152'</li>\n",
       "\t<li>'V153'</li>\n",
       "\t<li>'V154'</li>\n",
       "\t<li>'V155'</li>\n",
       "\t<li>'V156'</li>\n",
       "\t<li>'V157'</li>\n",
       "\t<li>'V158'</li>\n",
       "\t<li>'V159'</li>\n",
       "\t<li>'V160'</li>\n",
       "\t<li>'V161'</li>\n",
       "\t<li>'V162'</li>\n",
       "\t<li>'V163'</li>\n",
       "\t<li>'V164'</li>\n",
       "\t<li>'V165'</li>\n",
       "\t<li>'V166'</li>\n",
       "\t<li>'V167'</li>\n",
       "\t<li>'V168'</li>\n",
       "\t<li>'V169'</li>\n",
       "\t<li>'V170'</li>\n",
       "\t<li>'V171'</li>\n",
       "\t<li>'V172'</li>\n",
       "\t<li>'V173'</li>\n",
       "\t<li>'V174'</li>\n",
       "\t<li>'V175'</li>\n",
       "\t<li>'V176'</li>\n",
       "\t<li>'V177'</li>\n",
       "\t<li>'V178'</li>\n",
       "\t<li>'V179'</li>\n",
       "\t<li>'V180'</li>\n",
       "\t<li>'V181'</li>\n",
       "\t<li>'V182'</li>\n",
       "\t<li>'V183'</li>\n",
       "\t<li>'V184'</li>\n",
       "\t<li>'V185'</li>\n",
       "\t<li>'V186'</li>\n",
       "\t<li>'V187'</li>\n",
       "\t<li>'V188'</li>\n",
       "\t<li>'V189'</li>\n",
       "\t<li>'V190'</li>\n",
       "\t<li>'V191'</li>\n",
       "\t<li>'V192'</li>\n",
       "\t<li>'V193'</li>\n",
       "\t<li>'V194'</li>\n",
       "\t<li>'V195'</li>\n",
       "\t<li>'V196'</li>\n",
       "\t<li>'V197'</li>\n",
       "\t<li>'V198'</li>\n",
       "\t<li>'V199'</li>\n",
       "\t<li>'V200'</li>\n",
       "\t<li>'V201'</li>\n",
       "\t<li>'V202'</li>\n",
       "\t<li>'V203'</li>\n",
       "\t<li>'V204'</li>\n",
       "\t<li>'V205'</li>\n",
       "\t<li>'V206'</li>\n",
       "\t<li>'V207'</li>\n",
       "\t<li>'V208'</li>\n",
       "\t<li>'V209'</li>\n",
       "\t<li>'V210'</li>\n",
       "\t<li>'V211'</li>\n",
       "\t<li>'V212'</li>\n",
       "\t<li>'V213'</li>\n",
       "\t<li>'V214'</li>\n",
       "\t<li>'V215'</li>\n",
       "\t<li>'V216'</li>\n",
       "\t<li>'V217'</li>\n",
       "\t<li>'V218'</li>\n",
       "\t<li>'V219'</li>\n",
       "\t<li>'V220'</li>\n",
       "\t<li>'V221'</li>\n",
       "\t<li>'V222'</li>\n",
       "\t<li>'V223'</li>\n",
       "\t<li>'V224'</li>\n",
       "\t<li>'V225'</li>\n",
       "\t<li>'V226'</li>\n",
       "\t<li>'V227'</li>\n",
       "\t<li>'V228'</li>\n",
       "\t<li>'V229'</li>\n",
       "\t<li>'V230'</li>\n",
       "\t<li>'V231'</li>\n",
       "\t<li>'V232'</li>\n",
       "\t<li>'V233'</li>\n",
       "\t<li>'V234'</li>\n",
       "\t<li>'V235'</li>\n",
       "\t<li>'V236'</li>\n",
       "\t<li>'V237'</li>\n",
       "\t<li>'V238'</li>\n",
       "\t<li>'V239'</li>\n",
       "\t<li>'V240'</li>\n",
       "\t<li>'V241'</li>\n",
       "\t<li>'V242'</li>\n",
       "\t<li>'V243'</li>\n",
       "\t<li>'V244'</li>\n",
       "\t<li>'V245'</li>\n",
       "\t<li>'V246'</li>\n",
       "\t<li>'V247'</li>\n",
       "\t<li>'V248'</li>\n",
       "\t<li>'V249'</li>\n",
       "\t<li>'V250'</li>\n",
       "\t<li>'V251'</li>\n",
       "\t<li>'V252'</li>\n",
       "\t<li>'V253'</li>\n",
       "\t<li>'V254'</li>\n",
       "\t<li>'V255'</li>\n",
       "\t<li>'V256'</li>\n",
       "\t<li>'V257'</li>\n",
       "</ol>\n"
      ],
      "text/latex": [
       "\\begin{enumerate*}\n",
       "\\item 'V1'\n",
       "\\item 'V2'\n",
       "\\item 'V3'\n",
       "\\item 'V4'\n",
       "\\item 'V5'\n",
       "\\item 'V6'\n",
       "\\item 'V7'\n",
       "\\item 'V8'\n",
       "\\item 'V9'\n",
       "\\item 'V10'\n",
       "\\item 'V11'\n",
       "\\item 'V12'\n",
       "\\item 'V13'\n",
       "\\item 'V14'\n",
       "\\item 'V15'\n",
       "\\item 'V16'\n",
       "\\item 'V17'\n",
       "\\item 'V18'\n",
       "\\item 'V19'\n",
       "\\item 'V20'\n",
       "\\item 'V21'\n",
       "\\item 'V22'\n",
       "\\item 'V23'\n",
       "\\item 'V24'\n",
       "\\item 'V25'\n",
       "\\item 'V26'\n",
       "\\item 'V27'\n",
       "\\item 'V28'\n",
       "\\item 'V29'\n",
       "\\item 'V30'\n",
       "\\item 'V31'\n",
       "\\item 'V32'\n",
       "\\item 'V33'\n",
       "\\item 'V34'\n",
       "\\item 'V35'\n",
       "\\item 'V36'\n",
       "\\item 'V37'\n",
       "\\item 'V38'\n",
       "\\item 'V39'\n",
       "\\item 'V40'\n",
       "\\item 'V41'\n",
       "\\item 'V42'\n",
       "\\item 'V43'\n",
       "\\item 'V44'\n",
       "\\item 'V45'\n",
       "\\item 'V46'\n",
       "\\item 'V47'\n",
       "\\item 'V48'\n",
       "\\item 'V49'\n",
       "\\item 'V50'\n",
       "\\item 'V51'\n",
       "\\item 'V52'\n",
       "\\item 'V53'\n",
       "\\item 'V54'\n",
       "\\item 'V55'\n",
       "\\item 'V56'\n",
       "\\item 'V57'\n",
       "\\item 'V58'\n",
       "\\item 'V59'\n",
       "\\item 'V60'\n",
       "\\item 'V61'\n",
       "\\item 'V62'\n",
       "\\item 'V63'\n",
       "\\item 'V64'\n",
       "\\item 'V65'\n",
       "\\item 'V66'\n",
       "\\item 'V67'\n",
       "\\item 'V68'\n",
       "\\item 'V69'\n",
       "\\item 'V70'\n",
       "\\item 'V71'\n",
       "\\item 'V72'\n",
       "\\item 'V73'\n",
       "\\item 'V74'\n",
       "\\item 'V75'\n",
       "\\item 'V76'\n",
       "\\item 'V77'\n",
       "\\item 'V78'\n",
       "\\item 'V79'\n",
       "\\item 'V80'\n",
       "\\item 'V81'\n",
       "\\item 'V82'\n",
       "\\item 'V83'\n",
       "\\item 'V84'\n",
       "\\item 'V85'\n",
       "\\item 'V86'\n",
       "\\item 'V87'\n",
       "\\item 'V88'\n",
       "\\item 'V89'\n",
       "\\item 'V90'\n",
       "\\item 'V91'\n",
       "\\item 'V92'\n",
       "\\item 'V93'\n",
       "\\item 'V94'\n",
       "\\item 'V95'\n",
       "\\item 'V96'\n",
       "\\item 'V97'\n",
       "\\item 'V98'\n",
       "\\item 'V99'\n",
       "\\item 'V100'\n",
       "\\item 'V101'\n",
       "\\item 'V102'\n",
       "\\item 'V103'\n",
       "\\item 'V104'\n",
       "\\item 'V105'\n",
       "\\item 'V106'\n",
       "\\item 'V107'\n",
       "\\item 'V108'\n",
       "\\item 'V109'\n",
       "\\item 'V110'\n",
       "\\item 'V111'\n",
       "\\item 'V112'\n",
       "\\item 'V113'\n",
       "\\item 'V114'\n",
       "\\item 'V115'\n",
       "\\item 'V116'\n",
       "\\item 'V117'\n",
       "\\item 'V118'\n",
       "\\item 'V119'\n",
       "\\item 'V120'\n",
       "\\item 'V121'\n",
       "\\item 'V122'\n",
       "\\item 'V123'\n",
       "\\item 'V124'\n",
       "\\item 'V125'\n",
       "\\item 'V126'\n",
       "\\item 'V127'\n",
       "\\item 'V128'\n",
       "\\item 'V129'\n",
       "\\item 'V130'\n",
       "\\item 'V131'\n",
       "\\item 'V132'\n",
       "\\item 'V133'\n",
       "\\item 'V134'\n",
       "\\item 'V135'\n",
       "\\item 'V136'\n",
       "\\item 'V137'\n",
       "\\item 'V138'\n",
       "\\item 'V139'\n",
       "\\item 'V140'\n",
       "\\item 'V141'\n",
       "\\item 'V142'\n",
       "\\item 'V143'\n",
       "\\item 'V144'\n",
       "\\item 'V145'\n",
       "\\item 'V146'\n",
       "\\item 'V147'\n",
       "\\item 'V148'\n",
       "\\item 'V149'\n",
       "\\item 'V150'\n",
       "\\item 'V151'\n",
       "\\item 'V152'\n",
       "\\item 'V153'\n",
       "\\item 'V154'\n",
       "\\item 'V155'\n",
       "\\item 'V156'\n",
       "\\item 'V157'\n",
       "\\item 'V158'\n",
       "\\item 'V159'\n",
       "\\item 'V160'\n",
       "\\item 'V161'\n",
       "\\item 'V162'\n",
       "\\item 'V163'\n",
       "\\item 'V164'\n",
       "\\item 'V165'\n",
       "\\item 'V166'\n",
       "\\item 'V167'\n",
       "\\item 'V168'\n",
       "\\item 'V169'\n",
       "\\item 'V170'\n",
       "\\item 'V171'\n",
       "\\item 'V172'\n",
       "\\item 'V173'\n",
       "\\item 'V174'\n",
       "\\item 'V175'\n",
       "\\item 'V176'\n",
       "\\item 'V177'\n",
       "\\item 'V178'\n",
       "\\item 'V179'\n",
       "\\item 'V180'\n",
       "\\item 'V181'\n",
       "\\item 'V182'\n",
       "\\item 'V183'\n",
       "\\item 'V184'\n",
       "\\item 'V185'\n",
       "\\item 'V186'\n",
       "\\item 'V187'\n",
       "\\item 'V188'\n",
       "\\item 'V189'\n",
       "\\item 'V190'\n",
       "\\item 'V191'\n",
       "\\item 'V192'\n",
       "\\item 'V193'\n",
       "\\item 'V194'\n",
       "\\item 'V195'\n",
       "\\item 'V196'\n",
       "\\item 'V197'\n",
       "\\item 'V198'\n",
       "\\item 'V199'\n",
       "\\item 'V200'\n",
       "\\item 'V201'\n",
       "\\item 'V202'\n",
       "\\item 'V203'\n",
       "\\item 'V204'\n",
       "\\item 'V205'\n",
       "\\item 'V206'\n",
       "\\item 'V207'\n",
       "\\item 'V208'\n",
       "\\item 'V209'\n",
       "\\item 'V210'\n",
       "\\item 'V211'\n",
       "\\item 'V212'\n",
       "\\item 'V213'\n",
       "\\item 'V214'\n",
       "\\item 'V215'\n",
       "\\item 'V216'\n",
       "\\item 'V217'\n",
       "\\item 'V218'\n",
       "\\item 'V219'\n",
       "\\item 'V220'\n",
       "\\item 'V221'\n",
       "\\item 'V222'\n",
       "\\item 'V223'\n",
       "\\item 'V224'\n",
       "\\item 'V225'\n",
       "\\item 'V226'\n",
       "\\item 'V227'\n",
       "\\item 'V228'\n",
       "\\item 'V229'\n",
       "\\item 'V230'\n",
       "\\item 'V231'\n",
       "\\item 'V232'\n",
       "\\item 'V233'\n",
       "\\item 'V234'\n",
       "\\item 'V235'\n",
       "\\item 'V236'\n",
       "\\item 'V237'\n",
       "\\item 'V238'\n",
       "\\item 'V239'\n",
       "\\item 'V240'\n",
       "\\item 'V241'\n",
       "\\item 'V242'\n",
       "\\item 'V243'\n",
       "\\item 'V244'\n",
       "\\item 'V245'\n",
       "\\item 'V246'\n",
       "\\item 'V247'\n",
       "\\item 'V248'\n",
       "\\item 'V249'\n",
       "\\item 'V250'\n",
       "\\item 'V251'\n",
       "\\item 'V252'\n",
       "\\item 'V253'\n",
       "\\item 'V254'\n",
       "\\item 'V255'\n",
       "\\item 'V256'\n",
       "\\item 'V257'\n",
       "\\end{enumerate*}\n"
      ],
      "text/markdown": [
       "1. 'V1'\n",
       "2. 'V2'\n",
       "3. 'V3'\n",
       "4. 'V4'\n",
       "5. 'V5'\n",
       "6. 'V6'\n",
       "7. 'V7'\n",
       "8. 'V8'\n",
       "9. 'V9'\n",
       "10. 'V10'\n",
       "11. 'V11'\n",
       "12. 'V12'\n",
       "13. 'V13'\n",
       "14. 'V14'\n",
       "15. 'V15'\n",
       "16. 'V16'\n",
       "17. 'V17'\n",
       "18. 'V18'\n",
       "19. 'V19'\n",
       "20. 'V20'\n",
       "21. 'V21'\n",
       "22. 'V22'\n",
       "23. 'V23'\n",
       "24. 'V24'\n",
       "25. 'V25'\n",
       "26. 'V26'\n",
       "27. 'V27'\n",
       "28. 'V28'\n",
       "29. 'V29'\n",
       "30. 'V30'\n",
       "31. 'V31'\n",
       "32. 'V32'\n",
       "33. 'V33'\n",
       "34. 'V34'\n",
       "35. 'V35'\n",
       "36. 'V36'\n",
       "37. 'V37'\n",
       "38. 'V38'\n",
       "39. 'V39'\n",
       "40. 'V40'\n",
       "41. 'V41'\n",
       "42. 'V42'\n",
       "43. 'V43'\n",
       "44. 'V44'\n",
       "45. 'V45'\n",
       "46. 'V46'\n",
       "47. 'V47'\n",
       "48. 'V48'\n",
       "49. 'V49'\n",
       "50. 'V50'\n",
       "51. 'V51'\n",
       "52. 'V52'\n",
       "53. 'V53'\n",
       "54. 'V54'\n",
       "55. 'V55'\n",
       "56. 'V56'\n",
       "57. 'V57'\n",
       "58. 'V58'\n",
       "59. 'V59'\n",
       "60. 'V60'\n",
       "61. 'V61'\n",
       "62. 'V62'\n",
       "63. 'V63'\n",
       "64. 'V64'\n",
       "65. 'V65'\n",
       "66. 'V66'\n",
       "67. 'V67'\n",
       "68. 'V68'\n",
       "69. 'V69'\n",
       "70. 'V70'\n",
       "71. 'V71'\n",
       "72. 'V72'\n",
       "73. 'V73'\n",
       "74. 'V74'\n",
       "75. 'V75'\n",
       "76. 'V76'\n",
       "77. 'V77'\n",
       "78. 'V78'\n",
       "79. 'V79'\n",
       "80. 'V80'\n",
       "81. 'V81'\n",
       "82. 'V82'\n",
       "83. 'V83'\n",
       "84. 'V84'\n",
       "85. 'V85'\n",
       "86. 'V86'\n",
       "87. 'V87'\n",
       "88. 'V88'\n",
       "89. 'V89'\n",
       "90. 'V90'\n",
       "91. 'V91'\n",
       "92. 'V92'\n",
       "93. 'V93'\n",
       "94. 'V94'\n",
       "95. 'V95'\n",
       "96. 'V96'\n",
       "97. 'V97'\n",
       "98. 'V98'\n",
       "99. 'V99'\n",
       "100. 'V100'\n",
       "101. 'V101'\n",
       "102. 'V102'\n",
       "103. 'V103'\n",
       "104. 'V104'\n",
       "105. 'V105'\n",
       "106. 'V106'\n",
       "107. 'V107'\n",
       "108. 'V108'\n",
       "109. 'V109'\n",
       "110. 'V110'\n",
       "111. 'V111'\n",
       "112. 'V112'\n",
       "113. 'V113'\n",
       "114. 'V114'\n",
       "115. 'V115'\n",
       "116. 'V116'\n",
       "117. 'V117'\n",
       "118. 'V118'\n",
       "119. 'V119'\n",
       "120. 'V120'\n",
       "121. 'V121'\n",
       "122. 'V122'\n",
       "123. 'V123'\n",
       "124. 'V124'\n",
       "125. 'V125'\n",
       "126. 'V126'\n",
       "127. 'V127'\n",
       "128. 'V128'\n",
       "129. 'V129'\n",
       "130. 'V130'\n",
       "131. 'V131'\n",
       "132. 'V132'\n",
       "133. 'V133'\n",
       "134. 'V134'\n",
       "135. 'V135'\n",
       "136. 'V136'\n",
       "137. 'V137'\n",
       "138. 'V138'\n",
       "139. 'V139'\n",
       "140. 'V140'\n",
       "141. 'V141'\n",
       "142. 'V142'\n",
       "143. 'V143'\n",
       "144. 'V144'\n",
       "145. 'V145'\n",
       "146. 'V146'\n",
       "147. 'V147'\n",
       "148. 'V148'\n",
       "149. 'V149'\n",
       "150. 'V150'\n",
       "151. 'V151'\n",
       "152. 'V152'\n",
       "153. 'V153'\n",
       "154. 'V154'\n",
       "155. 'V155'\n",
       "156. 'V156'\n",
       "157. 'V157'\n",
       "158. 'V158'\n",
       "159. 'V159'\n",
       "160. 'V160'\n",
       "161. 'V161'\n",
       "162. 'V162'\n",
       "163. 'V163'\n",
       "164. 'V164'\n",
       "165. 'V165'\n",
       "166. 'V166'\n",
       "167. 'V167'\n",
       "168. 'V168'\n",
       "169. 'V169'\n",
       "170. 'V170'\n",
       "171. 'V171'\n",
       "172. 'V172'\n",
       "173. 'V173'\n",
       "174. 'V174'\n",
       "175. 'V175'\n",
       "176. 'V176'\n",
       "177. 'V177'\n",
       "178. 'V178'\n",
       "179. 'V179'\n",
       "180. 'V180'\n",
       "181. 'V181'\n",
       "182. 'V182'\n",
       "183. 'V183'\n",
       "184. 'V184'\n",
       "185. 'V185'\n",
       "186. 'V186'\n",
       "187. 'V187'\n",
       "188. 'V188'\n",
       "189. 'V189'\n",
       "190. 'V190'\n",
       "191. 'V191'\n",
       "192. 'V192'\n",
       "193. 'V193'\n",
       "194. 'V194'\n",
       "195. 'V195'\n",
       "196. 'V196'\n",
       "197. 'V197'\n",
       "198. 'V198'\n",
       "199. 'V199'\n",
       "200. 'V200'\n",
       "201. 'V201'\n",
       "202. 'V202'\n",
       "203. 'V203'\n",
       "204. 'V204'\n",
       "205. 'V205'\n",
       "206. 'V206'\n",
       "207. 'V207'\n",
       "208. 'V208'\n",
       "209. 'V209'\n",
       "210. 'V210'\n",
       "211. 'V211'\n",
       "212. 'V212'\n",
       "213. 'V213'\n",
       "214. 'V214'\n",
       "215. 'V215'\n",
       "216. 'V216'\n",
       "217. 'V217'\n",
       "218. 'V218'\n",
       "219. 'V219'\n",
       "220. 'V220'\n",
       "221. 'V221'\n",
       "222. 'V222'\n",
       "223. 'V223'\n",
       "224. 'V224'\n",
       "225. 'V225'\n",
       "226. 'V226'\n",
       "227. 'V227'\n",
       "228. 'V228'\n",
       "229. 'V229'\n",
       "230. 'V230'\n",
       "231. 'V231'\n",
       "232. 'V232'\n",
       "233. 'V233'\n",
       "234. 'V234'\n",
       "235. 'V235'\n",
       "236. 'V236'\n",
       "237. 'V237'\n",
       "238. 'V238'\n",
       "239. 'V239'\n",
       "240. 'V240'\n",
       "241. 'V241'\n",
       "242. 'V242'\n",
       "243. 'V243'\n",
       "244. 'V244'\n",
       "245. 'V245'\n",
       "246. 'V246'\n",
       "247. 'V247'\n",
       "248. 'V248'\n",
       "249. 'V249'\n",
       "250. 'V250'\n",
       "251. 'V251'\n",
       "252. 'V252'\n",
       "253. 'V253'\n",
       "254. 'V254'\n",
       "255. 'V255'\n",
       "256. 'V256'\n",
       "257. 'V257'\n",
       "\n",
       "\n"
      ],
      "text/plain": [
       "  [1] \"V1\"   \"V2\"   \"V3\"   \"V4\"   \"V5\"   \"V6\"   \"V7\"   \"V8\"   \"V9\"   \"V10\" \n",
       " [11] \"V11\"  \"V12\"  \"V13\"  \"V14\"  \"V15\"  \"V16\"  \"V17\"  \"V18\"  \"V19\"  \"V20\" \n",
       " [21] \"V21\"  \"V22\"  \"V23\"  \"V24\"  \"V25\"  \"V26\"  \"V27\"  \"V28\"  \"V29\"  \"V30\" \n",
       " [31] \"V31\"  \"V32\"  \"V33\"  \"V34\"  \"V35\"  \"V36\"  \"V37\"  \"V38\"  \"V39\"  \"V40\" \n",
       " [41] \"V41\"  \"V42\"  \"V43\"  \"V44\"  \"V45\"  \"V46\"  \"V47\"  \"V48\"  \"V49\"  \"V50\" \n",
       " [51] \"V51\"  \"V52\"  \"V53\"  \"V54\"  \"V55\"  \"V56\"  \"V57\"  \"V58\"  \"V59\"  \"V60\" \n",
       " [61] \"V61\"  \"V62\"  \"V63\"  \"V64\"  \"V65\"  \"V66\"  \"V67\"  \"V68\"  \"V69\"  \"V70\" \n",
       " [71] \"V71\"  \"V72\"  \"V73\"  \"V74\"  \"V75\"  \"V76\"  \"V77\"  \"V78\"  \"V79\"  \"V80\" \n",
       " [81] \"V81\"  \"V82\"  \"V83\"  \"V84\"  \"V85\"  \"V86\"  \"V87\"  \"V88\"  \"V89\"  \"V90\" \n",
       " [91] \"V91\"  \"V92\"  \"V93\"  \"V94\"  \"V95\"  \"V96\"  \"V97\"  \"V98\"  \"V99\"  \"V100\"\n",
       "[101] \"V101\" \"V102\" \"V103\" \"V104\" \"V105\" \"V106\" \"V107\" \"V108\" \"V109\" \"V110\"\n",
       "[111] \"V111\" \"V112\" \"V113\" \"V114\" \"V115\" \"V116\" \"V117\" \"V118\" \"V119\" \"V120\"\n",
       "[121] \"V121\" \"V122\" \"V123\" \"V124\" \"V125\" \"V126\" \"V127\" \"V128\" \"V129\" \"V130\"\n",
       "[131] \"V131\" \"V132\" \"V133\" \"V134\" \"V135\" \"V136\" \"V137\" \"V138\" \"V139\" \"V140\"\n",
       "[141] \"V141\" \"V142\" \"V143\" \"V144\" \"V145\" \"V146\" \"V147\" \"V148\" \"V149\" \"V150\"\n",
       "[151] \"V151\" \"V152\" \"V153\" \"V154\" \"V155\" \"V156\" \"V157\" \"V158\" \"V159\" \"V160\"\n",
       "[161] \"V161\" \"V162\" \"V163\" \"V164\" \"V165\" \"V166\" \"V167\" \"V168\" \"V169\" \"V170\"\n",
       "[171] \"V171\" \"V172\" \"V173\" \"V174\" \"V175\" \"V176\" \"V177\" \"V178\" \"V179\" \"V180\"\n",
       "[181] \"V181\" \"V182\" \"V183\" \"V184\" \"V185\" \"V186\" \"V187\" \"V188\" \"V189\" \"V190\"\n",
       "[191] \"V191\" \"V192\" \"V193\" \"V194\" \"V195\" \"V196\" \"V197\" \"V198\" \"V199\" \"V200\"\n",
       "[201] \"V201\" \"V202\" \"V203\" \"V204\" \"V205\" \"V206\" \"V207\" \"V208\" \"V209\" \"V210\"\n",
       "[211] \"V211\" \"V212\" \"V213\" \"V214\" \"V215\" \"V216\" \"V217\" \"V218\" \"V219\" \"V220\"\n",
       "[221] \"V221\" \"V222\" \"V223\" \"V224\" \"V225\" \"V226\" \"V227\" \"V228\" \"V229\" \"V230\"\n",
       "[231] \"V231\" \"V232\" \"V233\" \"V234\" \"V235\" \"V236\" \"V237\" \"V238\" \"V239\" \"V240\"\n",
       "[241] \"V241\" \"V242\" \"V243\" \"V244\" \"V245\" \"V246\" \"V247\" \"V248\" \"V249\" \"V250\"\n",
       "[251] \"V251\" \"V252\" \"V253\" \"V254\" \"V255\" \"V256\" \"V257\""
      ]
     },
     "execution_count": 6,
     "metadata": {
     },
     "output_type": "execute_result"
    }
   ],
   "source": [
    "colnames(data.train)"
   ]
  },
  {
   "cell_type": "code",
   "execution_count": 7,
   "metadata": {
    "collapsed": false,
    "scrolled": true
   },
   "outputs": [
    {
     "name": "stderr",
     "output_type": "stream",
     "text": [
      "WARNING: Some output was deleted.\n"
     ]
    }
   ],
   "source": [
    "summary(data.train)"
   ]
  },
  {
   "cell_type": "code",
   "execution_count": 8,
   "metadata": {
    "collapsed": false,
    "scrolled": true
   },
   "outputs": [
    {
     "name": "stderr",
     "output_type": "stream",
     "text": [
      "WARNING: Some output was deleted.\n"
     ]
    }
   ],
   "source": [
    "head(data.test,10)"
   ]
  },
  {
   "cell_type": "code",
   "execution_count": 9,
   "metadata": {
    "collapsed": false
   },
   "outputs": [
    {
     "data": {
      "text/html": [
       "<ol class=list-inline>\n",
       "\t<li>2007</li>\n",
       "\t<li>257</li>\n",
       "</ol>\n"
      ],
      "text/latex": [
       "\\begin{enumerate*}\n",
       "\\item 2007\n",
       "\\item 257\n",
       "\\end{enumerate*}\n"
      ],
      "text/markdown": [
       "1. 2007\n",
       "2. 257\n",
       "\n",
       "\n"
      ],
      "text/plain": [
       "[1] 2007  257"
      ]
     },
     "execution_count": 9,
     "metadata": {
     },
     "output_type": "execute_result"
    }
   ],
   "source": [
    "dim(data.test)"
   ]
  },
  {
   "cell_type": "code",
   "execution_count": 10,
   "metadata": {
    "collapsed": false
   },
   "outputs": [
    {
     "data": {
      "text/html": [
       "2007"
      ],
      "text/latex": [
       "2007"
      ],
      "text/markdown": [
       "2007"
      ],
      "text/plain": [
       "[1] 2007"
      ]
     },
     "execution_count": 10,
     "metadata": {
     },
     "output_type": "execute_result"
    }
   ],
   "source": [
    "nrow(data.test)"
   ]
  },
  {
   "cell_type": "code",
   "execution_count": 11,
   "metadata": {
    "collapsed": false
   },
   "outputs": [
    {
     "data": {
      "text/html": [
       "257"
      ],
      "text/latex": [
       "257"
      ],
      "text/markdown": [
       "257"
      ],
      "text/plain": [
       "[1] 257"
      ]
     },
     "execution_count": 11,
     "metadata": {
     },
     "output_type": "execute_result"
    }
   ],
   "source": [
    "ncol(data.test)"
   ]
  },
  {
   "cell_type": "code",
   "execution_count": 12,
   "metadata": {
    "collapsed": false
   },
   "outputs": [
    {
     "data": {
      "text/html": [
       "<ol class=list-inline>\n",
       "\t<li>'V1'</li>\n",
       "\t<li>'V2'</li>\n",
       "\t<li>'V3'</li>\n",
       "\t<li>'V4'</li>\n",
       "\t<li>'V5'</li>\n",
       "\t<li>'V6'</li>\n",
       "\t<li>'V7'</li>\n",
       "\t<li>'V8'</li>\n",
       "\t<li>'V9'</li>\n",
       "\t<li>'V10'</li>\n",
       "\t<li>'V11'</li>\n",
       "\t<li>'V12'</li>\n",
       "\t<li>'V13'</li>\n",
       "\t<li>'V14'</li>\n",
       "\t<li>'V15'</li>\n",
       "\t<li>'V16'</li>\n",
       "\t<li>'V17'</li>\n",
       "\t<li>'V18'</li>\n",
       "\t<li>'V19'</li>\n",
       "\t<li>'V20'</li>\n",
       "\t<li>'V21'</li>\n",
       "\t<li>'V22'</li>\n",
       "\t<li>'V23'</li>\n",
       "\t<li>'V24'</li>\n",
       "\t<li>'V25'</li>\n",
       "\t<li>'V26'</li>\n",
       "\t<li>'V27'</li>\n",
       "\t<li>'V28'</li>\n",
       "\t<li>'V29'</li>\n",
       "\t<li>'V30'</li>\n",
       "\t<li>'V31'</li>\n",
       "\t<li>'V32'</li>\n",
       "\t<li>'V33'</li>\n",
       "\t<li>'V34'</li>\n",
       "\t<li>'V35'</li>\n",
       "\t<li>'V36'</li>\n",
       "\t<li>'V37'</li>\n",
       "\t<li>'V38'</li>\n",
       "\t<li>'V39'</li>\n",
       "\t<li>'V40'</li>\n",
       "\t<li>'V41'</li>\n",
       "\t<li>'V42'</li>\n",
       "\t<li>'V43'</li>\n",
       "\t<li>'V44'</li>\n",
       "\t<li>'V45'</li>\n",
       "\t<li>'V46'</li>\n",
       "\t<li>'V47'</li>\n",
       "\t<li>'V48'</li>\n",
       "\t<li>'V49'</li>\n",
       "\t<li>'V50'</li>\n",
       "\t<li>'V51'</li>\n",
       "\t<li>'V52'</li>\n",
       "\t<li>'V53'</li>\n",
       "\t<li>'V54'</li>\n",
       "\t<li>'V55'</li>\n",
       "\t<li>'V56'</li>\n",
       "\t<li>'V57'</li>\n",
       "\t<li>'V58'</li>\n",
       "\t<li>'V59'</li>\n",
       "\t<li>'V60'</li>\n",
       "\t<li>'V61'</li>\n",
       "\t<li>'V62'</li>\n",
       "\t<li>'V63'</li>\n",
       "\t<li>'V64'</li>\n",
       "\t<li>'V65'</li>\n",
       "\t<li>'V66'</li>\n",
       "\t<li>'V67'</li>\n",
       "\t<li>'V68'</li>\n",
       "\t<li>'V69'</li>\n",
       "\t<li>'V70'</li>\n",
       "\t<li>'V71'</li>\n",
       "\t<li>'V72'</li>\n",
       "\t<li>'V73'</li>\n",
       "\t<li>'V74'</li>\n",
       "\t<li>'V75'</li>\n",
       "\t<li>'V76'</li>\n",
       "\t<li>'V77'</li>\n",
       "\t<li>'V78'</li>\n",
       "\t<li>'V79'</li>\n",
       "\t<li>'V80'</li>\n",
       "\t<li>'V81'</li>\n",
       "\t<li>'V82'</li>\n",
       "\t<li>'V83'</li>\n",
       "\t<li>'V84'</li>\n",
       "\t<li>'V85'</li>\n",
       "\t<li>'V86'</li>\n",
       "\t<li>'V87'</li>\n",
       "\t<li>'V88'</li>\n",
       "\t<li>'V89'</li>\n",
       "\t<li>'V90'</li>\n",
       "\t<li>'V91'</li>\n",
       "\t<li>'V92'</li>\n",
       "\t<li>'V93'</li>\n",
       "\t<li>'V94'</li>\n",
       "\t<li>'V95'</li>\n",
       "\t<li>'V96'</li>\n",
       "\t<li>'V97'</li>\n",
       "\t<li>'V98'</li>\n",
       "\t<li>'V99'</li>\n",
       "\t<li>'V100'</li>\n",
       "\t<li>'V101'</li>\n",
       "\t<li>'V102'</li>\n",
       "\t<li>'V103'</li>\n",
       "\t<li>'V104'</li>\n",
       "\t<li>'V105'</li>\n",
       "\t<li>'V106'</li>\n",
       "\t<li>'V107'</li>\n",
       "\t<li>'V108'</li>\n",
       "\t<li>'V109'</li>\n",
       "\t<li>'V110'</li>\n",
       "\t<li>'V111'</li>\n",
       "\t<li>'V112'</li>\n",
       "\t<li>'V113'</li>\n",
       "\t<li>'V114'</li>\n",
       "\t<li>'V115'</li>\n",
       "\t<li>'V116'</li>\n",
       "\t<li>'V117'</li>\n",
       "\t<li>'V118'</li>\n",
       "\t<li>'V119'</li>\n",
       "\t<li>'V120'</li>\n",
       "\t<li>'V121'</li>\n",
       "\t<li>'V122'</li>\n",
       "\t<li>'V123'</li>\n",
       "\t<li>'V124'</li>\n",
       "\t<li>'V125'</li>\n",
       "\t<li>'V126'</li>\n",
       "\t<li>'V127'</li>\n",
       "\t<li>'V128'</li>\n",
       "\t<li>'V129'</li>\n",
       "\t<li>'V130'</li>\n",
       "\t<li>'V131'</li>\n",
       "\t<li>'V132'</li>\n",
       "\t<li>'V133'</li>\n",
       "\t<li>'V134'</li>\n",
       "\t<li>'V135'</li>\n",
       "\t<li>'V136'</li>\n",
       "\t<li>'V137'</li>\n",
       "\t<li>'V138'</li>\n",
       "\t<li>'V139'</li>\n",
       "\t<li>'V140'</li>\n",
       "\t<li>'V141'</li>\n",
       "\t<li>'V142'</li>\n",
       "\t<li>'V143'</li>\n",
       "\t<li>'V144'</li>\n",
       "\t<li>'V145'</li>\n",
       "\t<li>'V146'</li>\n",
       "\t<li>'V147'</li>\n",
       "\t<li>'V148'</li>\n",
       "\t<li>'V149'</li>\n",
       "\t<li>'V150'</li>\n",
       "\t<li>'V151'</li>\n",
       "\t<li>'V152'</li>\n",
       "\t<li>'V153'</li>\n",
       "\t<li>'V154'</li>\n",
       "\t<li>'V155'</li>\n",
       "\t<li>'V156'</li>\n",
       "\t<li>'V157'</li>\n",
       "\t<li>'V158'</li>\n",
       "\t<li>'V159'</li>\n",
       "\t<li>'V160'</li>\n",
       "\t<li>'V161'</li>\n",
       "\t<li>'V162'</li>\n",
       "\t<li>'V163'</li>\n",
       "\t<li>'V164'</li>\n",
       "\t<li>'V165'</li>\n",
       "\t<li>'V166'</li>\n",
       "\t<li>'V167'</li>\n",
       "\t<li>'V168'</li>\n",
       "\t<li>'V169'</li>\n",
       "\t<li>'V170'</li>\n",
       "\t<li>'V171'</li>\n",
       "\t<li>'V172'</li>\n",
       "\t<li>'V173'</li>\n",
       "\t<li>'V174'</li>\n",
       "\t<li>'V175'</li>\n",
       "\t<li>'V176'</li>\n",
       "\t<li>'V177'</li>\n",
       "\t<li>'V178'</li>\n",
       "\t<li>'V179'</li>\n",
       "\t<li>'V180'</li>\n",
       "\t<li>'V181'</li>\n",
       "\t<li>'V182'</li>\n",
       "\t<li>'V183'</li>\n",
       "\t<li>'V184'</li>\n",
       "\t<li>'V185'</li>\n",
       "\t<li>'V186'</li>\n",
       "\t<li>'V187'</li>\n",
       "\t<li>'V188'</li>\n",
       "\t<li>'V189'</li>\n",
       "\t<li>'V190'</li>\n",
       "\t<li>'V191'</li>\n",
       "\t<li>'V192'</li>\n",
       "\t<li>'V193'</li>\n",
       "\t<li>'V194'</li>\n",
       "\t<li>'V195'</li>\n",
       "\t<li>'V196'</li>\n",
       "\t<li>'V197'</li>\n",
       "\t<li>'V198'</li>\n",
       "\t<li>'V199'</li>\n",
       "\t<li>'V200'</li>\n",
       "\t<li>'V201'</li>\n",
       "\t<li>'V202'</li>\n",
       "\t<li>'V203'</li>\n",
       "\t<li>'V204'</li>\n",
       "\t<li>'V205'</li>\n",
       "\t<li>'V206'</li>\n",
       "\t<li>'V207'</li>\n",
       "\t<li>'V208'</li>\n",
       "\t<li>'V209'</li>\n",
       "\t<li>'V210'</li>\n",
       "\t<li>'V211'</li>\n",
       "\t<li>'V212'</li>\n",
       "\t<li>'V213'</li>\n",
       "\t<li>'V214'</li>\n",
       "\t<li>'V215'</li>\n",
       "\t<li>'V216'</li>\n",
       "\t<li>'V217'</li>\n",
       "\t<li>'V218'</li>\n",
       "\t<li>'V219'</li>\n",
       "\t<li>'V220'</li>\n",
       "\t<li>'V221'</li>\n",
       "\t<li>'V222'</li>\n",
       "\t<li>'V223'</li>\n",
       "\t<li>'V224'</li>\n",
       "\t<li>'V225'</li>\n",
       "\t<li>'V226'</li>\n",
       "\t<li>'V227'</li>\n",
       "\t<li>'V228'</li>\n",
       "\t<li>'V229'</li>\n",
       "\t<li>'V230'</li>\n",
       "\t<li>'V231'</li>\n",
       "\t<li>'V232'</li>\n",
       "\t<li>'V233'</li>\n",
       "\t<li>'V234'</li>\n",
       "\t<li>'V235'</li>\n",
       "\t<li>'V236'</li>\n",
       "\t<li>'V237'</li>\n",
       "\t<li>'V238'</li>\n",
       "\t<li>'V239'</li>\n",
       "\t<li>'V240'</li>\n",
       "\t<li>'V241'</li>\n",
       "\t<li>'V242'</li>\n",
       "\t<li>'V243'</li>\n",
       "\t<li>'V244'</li>\n",
       "\t<li>'V245'</li>\n",
       "\t<li>'V246'</li>\n",
       "\t<li>'V247'</li>\n",
       "\t<li>'V248'</li>\n",
       "\t<li>'V249'</li>\n",
       "\t<li>'V250'</li>\n",
       "\t<li>'V251'</li>\n",
       "\t<li>'V252'</li>\n",
       "\t<li>'V253'</li>\n",
       "\t<li>'V254'</li>\n",
       "\t<li>'V255'</li>\n",
       "\t<li>'V256'</li>\n",
       "\t<li>'V257'</li>\n",
       "</ol>\n"
      ],
      "text/latex": [
       "\\begin{enumerate*}\n",
       "\\item 'V1'\n",
       "\\item 'V2'\n",
       "\\item 'V3'\n",
       "\\item 'V4'\n",
       "\\item 'V5'\n",
       "\\item 'V6'\n",
       "\\item 'V7'\n",
       "\\item 'V8'\n",
       "\\item 'V9'\n",
       "\\item 'V10'\n",
       "\\item 'V11'\n",
       "\\item 'V12'\n",
       "\\item 'V13'\n",
       "\\item 'V14'\n",
       "\\item 'V15'\n",
       "\\item 'V16'\n",
       "\\item 'V17'\n",
       "\\item 'V18'\n",
       "\\item 'V19'\n",
       "\\item 'V20'\n",
       "\\item 'V21'\n",
       "\\item 'V22'\n",
       "\\item 'V23'\n",
       "\\item 'V24'\n",
       "\\item 'V25'\n",
       "\\item 'V26'\n",
       "\\item 'V27'\n",
       "\\item 'V28'\n",
       "\\item 'V29'\n",
       "\\item 'V30'\n",
       "\\item 'V31'\n",
       "\\item 'V32'\n",
       "\\item 'V33'\n",
       "\\item 'V34'\n",
       "\\item 'V35'\n",
       "\\item 'V36'\n",
       "\\item 'V37'\n",
       "\\item 'V38'\n",
       "\\item 'V39'\n",
       "\\item 'V40'\n",
       "\\item 'V41'\n",
       "\\item 'V42'\n",
       "\\item 'V43'\n",
       "\\item 'V44'\n",
       "\\item 'V45'\n",
       "\\item 'V46'\n",
       "\\item 'V47'\n",
       "\\item 'V48'\n",
       "\\item 'V49'\n",
       "\\item 'V50'\n",
       "\\item 'V51'\n",
       "\\item 'V52'\n",
       "\\item 'V53'\n",
       "\\item 'V54'\n",
       "\\item 'V55'\n",
       "\\item 'V56'\n",
       "\\item 'V57'\n",
       "\\item 'V58'\n",
       "\\item 'V59'\n",
       "\\item 'V60'\n",
       "\\item 'V61'\n",
       "\\item 'V62'\n",
       "\\item 'V63'\n",
       "\\item 'V64'\n",
       "\\item 'V65'\n",
       "\\item 'V66'\n",
       "\\item 'V67'\n",
       "\\item 'V68'\n",
       "\\item 'V69'\n",
       "\\item 'V70'\n",
       "\\item 'V71'\n",
       "\\item 'V72'\n",
       "\\item 'V73'\n",
       "\\item 'V74'\n",
       "\\item 'V75'\n",
       "\\item 'V76'\n",
       "\\item 'V77'\n",
       "\\item 'V78'\n",
       "\\item 'V79'\n",
       "\\item 'V80'\n",
       "\\item 'V81'\n",
       "\\item 'V82'\n",
       "\\item 'V83'\n",
       "\\item 'V84'\n",
       "\\item 'V85'\n",
       "\\item 'V86'\n",
       "\\item 'V87'\n",
       "\\item 'V88'\n",
       "\\item 'V89'\n",
       "\\item 'V90'\n",
       "\\item 'V91'\n",
       "\\item 'V92'\n",
       "\\item 'V93'\n",
       "\\item 'V94'\n",
       "\\item 'V95'\n",
       "\\item 'V96'\n",
       "\\item 'V97'\n",
       "\\item 'V98'\n",
       "\\item 'V99'\n",
       "\\item 'V100'\n",
       "\\item 'V101'\n",
       "\\item 'V102'\n",
       "\\item 'V103'\n",
       "\\item 'V104'\n",
       "\\item 'V105'\n",
       "\\item 'V106'\n",
       "\\item 'V107'\n",
       "\\item 'V108'\n",
       "\\item 'V109'\n",
       "\\item 'V110'\n",
       "\\item 'V111'\n",
       "\\item 'V112'\n",
       "\\item 'V113'\n",
       "\\item 'V114'\n",
       "\\item 'V115'\n",
       "\\item 'V116'\n",
       "\\item 'V117'\n",
       "\\item 'V118'\n",
       "\\item 'V119'\n",
       "\\item 'V120'\n",
       "\\item 'V121'\n",
       "\\item 'V122'\n",
       "\\item 'V123'\n",
       "\\item 'V124'\n",
       "\\item 'V125'\n",
       "\\item 'V126'\n",
       "\\item 'V127'\n",
       "\\item 'V128'\n",
       "\\item 'V129'\n",
       "\\item 'V130'\n",
       "\\item 'V131'\n",
       "\\item 'V132'\n",
       "\\item 'V133'\n",
       "\\item 'V134'\n",
       "\\item 'V135'\n",
       "\\item 'V136'\n",
       "\\item 'V137'\n",
       "\\item 'V138'\n",
       "\\item 'V139'\n",
       "\\item 'V140'\n",
       "\\item 'V141'\n",
       "\\item 'V142'\n",
       "\\item 'V143'\n",
       "\\item 'V144'\n",
       "\\item 'V145'\n",
       "\\item 'V146'\n",
       "\\item 'V147'\n",
       "\\item 'V148'\n",
       "\\item 'V149'\n",
       "\\item 'V150'\n",
       "\\item 'V151'\n",
       "\\item 'V152'\n",
       "\\item 'V153'\n",
       "\\item 'V154'\n",
       "\\item 'V155'\n",
       "\\item 'V156'\n",
       "\\item 'V157'\n",
       "\\item 'V158'\n",
       "\\item 'V159'\n",
       "\\item 'V160'\n",
       "\\item 'V161'\n",
       "\\item 'V162'\n",
       "\\item 'V163'\n",
       "\\item 'V164'\n",
       "\\item 'V165'\n",
       "\\item 'V166'\n",
       "\\item 'V167'\n",
       "\\item 'V168'\n",
       "\\item 'V169'\n",
       "\\item 'V170'\n",
       "\\item 'V171'\n",
       "\\item 'V172'\n",
       "\\item 'V173'\n",
       "\\item 'V174'\n",
       "\\item 'V175'\n",
       "\\item 'V176'\n",
       "\\item 'V177'\n",
       "\\item 'V178'\n",
       "\\item 'V179'\n",
       "\\item 'V180'\n",
       "\\item 'V181'\n",
       "\\item 'V182'\n",
       "\\item 'V183'\n",
       "\\item 'V184'\n",
       "\\item 'V185'\n",
       "\\item 'V186'\n",
       "\\item 'V187'\n",
       "\\item 'V188'\n",
       "\\item 'V189'\n",
       "\\item 'V190'\n",
       "\\item 'V191'\n",
       "\\item 'V192'\n",
       "\\item 'V193'\n",
       "\\item 'V194'\n",
       "\\item 'V195'\n",
       "\\item 'V196'\n",
       "\\item 'V197'\n",
       "\\item 'V198'\n",
       "\\item 'V199'\n",
       "\\item 'V200'\n",
       "\\item 'V201'\n",
       "\\item 'V202'\n",
       "\\item 'V203'\n",
       "\\item 'V204'\n",
       "\\item 'V205'\n",
       "\\item 'V206'\n",
       "\\item 'V207'\n",
       "\\item 'V208'\n",
       "\\item 'V209'\n",
       "\\item 'V210'\n",
       "\\item 'V211'\n",
       "\\item 'V212'\n",
       "\\item 'V213'\n",
       "\\item 'V214'\n",
       "\\item 'V215'\n",
       "\\item 'V216'\n",
       "\\item 'V217'\n",
       "\\item 'V218'\n",
       "\\item 'V219'\n",
       "\\item 'V220'\n",
       "\\item 'V221'\n",
       "\\item 'V222'\n",
       "\\item 'V223'\n",
       "\\item 'V224'\n",
       "\\item 'V225'\n",
       "\\item 'V226'\n",
       "\\item 'V227'\n",
       "\\item 'V228'\n",
       "\\item 'V229'\n",
       "\\item 'V230'\n",
       "\\item 'V231'\n",
       "\\item 'V232'\n",
       "\\item 'V233'\n",
       "\\item 'V234'\n",
       "\\item 'V235'\n",
       "\\item 'V236'\n",
       "\\item 'V237'\n",
       "\\item 'V238'\n",
       "\\item 'V239'\n",
       "\\item 'V240'\n",
       "\\item 'V241'\n",
       "\\item 'V242'\n",
       "\\item 'V243'\n",
       "\\item 'V244'\n",
       "\\item 'V245'\n",
       "\\item 'V246'\n",
       "\\item 'V247'\n",
       "\\item 'V248'\n",
       "\\item 'V249'\n",
       "\\item 'V250'\n",
       "\\item 'V251'\n",
       "\\item 'V252'\n",
       "\\item 'V253'\n",
       "\\item 'V254'\n",
       "\\item 'V255'\n",
       "\\item 'V256'\n",
       "\\item 'V257'\n",
       "\\end{enumerate*}\n"
      ],
      "text/markdown": [
       "1. 'V1'\n",
       "2. 'V2'\n",
       "3. 'V3'\n",
       "4. 'V4'\n",
       "5. 'V5'\n",
       "6. 'V6'\n",
       "7. 'V7'\n",
       "8. 'V8'\n",
       "9. 'V9'\n",
       "10. 'V10'\n",
       "11. 'V11'\n",
       "12. 'V12'\n",
       "13. 'V13'\n",
       "14. 'V14'\n",
       "15. 'V15'\n",
       "16. 'V16'\n",
       "17. 'V17'\n",
       "18. 'V18'\n",
       "19. 'V19'\n",
       "20. 'V20'\n",
       "21. 'V21'\n",
       "22. 'V22'\n",
       "23. 'V23'\n",
       "24. 'V24'\n",
       "25. 'V25'\n",
       "26. 'V26'\n",
       "27. 'V27'\n",
       "28. 'V28'\n",
       "29. 'V29'\n",
       "30. 'V30'\n",
       "31. 'V31'\n",
       "32. 'V32'\n",
       "33. 'V33'\n",
       "34. 'V34'\n",
       "35. 'V35'\n",
       "36. 'V36'\n",
       "37. 'V37'\n",
       "38. 'V38'\n",
       "39. 'V39'\n",
       "40. 'V40'\n",
       "41. 'V41'\n",
       "42. 'V42'\n",
       "43. 'V43'\n",
       "44. 'V44'\n",
       "45. 'V45'\n",
       "46. 'V46'\n",
       "47. 'V47'\n",
       "48. 'V48'\n",
       "49. 'V49'\n",
       "50. 'V50'\n",
       "51. 'V51'\n",
       "52. 'V52'\n",
       "53. 'V53'\n",
       "54. 'V54'\n",
       "55. 'V55'\n",
       "56. 'V56'\n",
       "57. 'V57'\n",
       "58. 'V58'\n",
       "59. 'V59'\n",
       "60. 'V60'\n",
       "61. 'V61'\n",
       "62. 'V62'\n",
       "63. 'V63'\n",
       "64. 'V64'\n",
       "65. 'V65'\n",
       "66. 'V66'\n",
       "67. 'V67'\n",
       "68. 'V68'\n",
       "69. 'V69'\n",
       "70. 'V70'\n",
       "71. 'V71'\n",
       "72. 'V72'\n",
       "73. 'V73'\n",
       "74. 'V74'\n",
       "75. 'V75'\n",
       "76. 'V76'\n",
       "77. 'V77'\n",
       "78. 'V78'\n",
       "79. 'V79'\n",
       "80. 'V80'\n",
       "81. 'V81'\n",
       "82. 'V82'\n",
       "83. 'V83'\n",
       "84. 'V84'\n",
       "85. 'V85'\n",
       "86. 'V86'\n",
       "87. 'V87'\n",
       "88. 'V88'\n",
       "89. 'V89'\n",
       "90. 'V90'\n",
       "91. 'V91'\n",
       "92. 'V92'\n",
       "93. 'V93'\n",
       "94. 'V94'\n",
       "95. 'V95'\n",
       "96. 'V96'\n",
       "97. 'V97'\n",
       "98. 'V98'\n",
       "99. 'V99'\n",
       "100. 'V100'\n",
       "101. 'V101'\n",
       "102. 'V102'\n",
       "103. 'V103'\n",
       "104. 'V104'\n",
       "105. 'V105'\n",
       "106. 'V106'\n",
       "107. 'V107'\n",
       "108. 'V108'\n",
       "109. 'V109'\n",
       "110. 'V110'\n",
       "111. 'V111'\n",
       "112. 'V112'\n",
       "113. 'V113'\n",
       "114. 'V114'\n",
       "115. 'V115'\n",
       "116. 'V116'\n",
       "117. 'V117'\n",
       "118. 'V118'\n",
       "119. 'V119'\n",
       "120. 'V120'\n",
       "121. 'V121'\n",
       "122. 'V122'\n",
       "123. 'V123'\n",
       "124. 'V124'\n",
       "125. 'V125'\n",
       "126. 'V126'\n",
       "127. 'V127'\n",
       "128. 'V128'\n",
       "129. 'V129'\n",
       "130. 'V130'\n",
       "131. 'V131'\n",
       "132. 'V132'\n",
       "133. 'V133'\n",
       "134. 'V134'\n",
       "135. 'V135'\n",
       "136. 'V136'\n",
       "137. 'V137'\n",
       "138. 'V138'\n",
       "139. 'V139'\n",
       "140. 'V140'\n",
       "141. 'V141'\n",
       "142. 'V142'\n",
       "143. 'V143'\n",
       "144. 'V144'\n",
       "145. 'V145'\n",
       "146. 'V146'\n",
       "147. 'V147'\n",
       "148. 'V148'\n",
       "149. 'V149'\n",
       "150. 'V150'\n",
       "151. 'V151'\n",
       "152. 'V152'\n",
       "153. 'V153'\n",
       "154. 'V154'\n",
       "155. 'V155'\n",
       "156. 'V156'\n",
       "157. 'V157'\n",
       "158. 'V158'\n",
       "159. 'V159'\n",
       "160. 'V160'\n",
       "161. 'V161'\n",
       "162. 'V162'\n",
       "163. 'V163'\n",
       "164. 'V164'\n",
       "165. 'V165'\n",
       "166. 'V166'\n",
       "167. 'V167'\n",
       "168. 'V168'\n",
       "169. 'V169'\n",
       "170. 'V170'\n",
       "171. 'V171'\n",
       "172. 'V172'\n",
       "173. 'V173'\n",
       "174. 'V174'\n",
       "175. 'V175'\n",
       "176. 'V176'\n",
       "177. 'V177'\n",
       "178. 'V178'\n",
       "179. 'V179'\n",
       "180. 'V180'\n",
       "181. 'V181'\n",
       "182. 'V182'\n",
       "183. 'V183'\n",
       "184. 'V184'\n",
       "185. 'V185'\n",
       "186. 'V186'\n",
       "187. 'V187'\n",
       "188. 'V188'\n",
       "189. 'V189'\n",
       "190. 'V190'\n",
       "191. 'V191'\n",
       "192. 'V192'\n",
       "193. 'V193'\n",
       "194. 'V194'\n",
       "195. 'V195'\n",
       "196. 'V196'\n",
       "197. 'V197'\n",
       "198. 'V198'\n",
       "199. 'V199'\n",
       "200. 'V200'\n",
       "201. 'V201'\n",
       "202. 'V202'\n",
       "203. 'V203'\n",
       "204. 'V204'\n",
       "205. 'V205'\n",
       "206. 'V206'\n",
       "207. 'V207'\n",
       "208. 'V208'\n",
       "209. 'V209'\n",
       "210. 'V210'\n",
       "211. 'V211'\n",
       "212. 'V212'\n",
       "213. 'V213'\n",
       "214. 'V214'\n",
       "215. 'V215'\n",
       "216. 'V216'\n",
       "217. 'V217'\n",
       "218. 'V218'\n",
       "219. 'V219'\n",
       "220. 'V220'\n",
       "221. 'V221'\n",
       "222. 'V222'\n",
       "223. 'V223'\n",
       "224. 'V224'\n",
       "225. 'V225'\n",
       "226. 'V226'\n",
       "227. 'V227'\n",
       "228. 'V228'\n",
       "229. 'V229'\n",
       "230. 'V230'\n",
       "231. 'V231'\n",
       "232. 'V232'\n",
       "233. 'V233'\n",
       "234. 'V234'\n",
       "235. 'V235'\n",
       "236. 'V236'\n",
       "237. 'V237'\n",
       "238. 'V238'\n",
       "239. 'V239'\n",
       "240. 'V240'\n",
       "241. 'V241'\n",
       "242. 'V242'\n",
       "243. 'V243'\n",
       "244. 'V244'\n",
       "245. 'V245'\n",
       "246. 'V246'\n",
       "247. 'V247'\n",
       "248. 'V248'\n",
       "249. 'V249'\n",
       "250. 'V250'\n",
       "251. 'V251'\n",
       "252. 'V252'\n",
       "253. 'V253'\n",
       "254. 'V254'\n",
       "255. 'V255'\n",
       "256. 'V256'\n",
       "257. 'V257'\n",
       "\n",
       "\n"
      ],
      "text/plain": [
       "  [1] \"V1\"   \"V2\"   \"V3\"   \"V4\"   \"V5\"   \"V6\"   \"V7\"   \"V8\"   \"V9\"   \"V10\" \n",
       " [11] \"V11\"  \"V12\"  \"V13\"  \"V14\"  \"V15\"  \"V16\"  \"V17\"  \"V18\"  \"V19\"  \"V20\" \n",
       " [21] \"V21\"  \"V22\"  \"V23\"  \"V24\"  \"V25\"  \"V26\"  \"V27\"  \"V28\"  \"V29\"  \"V30\" \n",
       " [31] \"V31\"  \"V32\"  \"V33\"  \"V34\"  \"V35\"  \"V36\"  \"V37\"  \"V38\"  \"V39\"  \"V40\" \n",
       " [41] \"V41\"  \"V42\"  \"V43\"  \"V44\"  \"V45\"  \"V46\"  \"V47\"  \"V48\"  \"V49\"  \"V50\" \n",
       " [51] \"V51\"  \"V52\"  \"V53\"  \"V54\"  \"V55\"  \"V56\"  \"V57\"  \"V58\"  \"V59\"  \"V60\" \n",
       " [61] \"V61\"  \"V62\"  \"V63\"  \"V64\"  \"V65\"  \"V66\"  \"V67\"  \"V68\"  \"V69\"  \"V70\" \n",
       " [71] \"V71\"  \"V72\"  \"V73\"  \"V74\"  \"V75\"  \"V76\"  \"V77\"  \"V78\"  \"V79\"  \"V80\" \n",
       " [81] \"V81\"  \"V82\"  \"V83\"  \"V84\"  \"V85\"  \"V86\"  \"V87\"  \"V88\"  \"V89\"  \"V90\" \n",
       " [91] \"V91\"  \"V92\"  \"V93\"  \"V94\"  \"V95\"  \"V96\"  \"V97\"  \"V98\"  \"V99\"  \"V100\"\n",
       "[101] \"V101\" \"V102\" \"V103\" \"V104\" \"V105\" \"V106\" \"V107\" \"V108\" \"V109\" \"V110\"\n",
       "[111] \"V111\" \"V112\" \"V113\" \"V114\" \"V115\" \"V116\" \"V117\" \"V118\" \"V119\" \"V120\"\n",
       "[121] \"V121\" \"V122\" \"V123\" \"V124\" \"V125\" \"V126\" \"V127\" \"V128\" \"V129\" \"V130\"\n",
       "[131] \"V131\" \"V132\" \"V133\" \"V134\" \"V135\" \"V136\" \"V137\" \"V138\" \"V139\" \"V140\"\n",
       "[141] \"V141\" \"V142\" \"V143\" \"V144\" \"V145\" \"V146\" \"V147\" \"V148\" \"V149\" \"V150\"\n",
       "[151] \"V151\" \"V152\" \"V153\" \"V154\" \"V155\" \"V156\" \"V157\" \"V158\" \"V159\" \"V160\"\n",
       "[161] \"V161\" \"V162\" \"V163\" \"V164\" \"V165\" \"V166\" \"V167\" \"V168\" \"V169\" \"V170\"\n",
       "[171] \"V171\" \"V172\" \"V173\" \"V174\" \"V175\" \"V176\" \"V177\" \"V178\" \"V179\" \"V180\"\n",
       "[181] \"V181\" \"V182\" \"V183\" \"V184\" \"V185\" \"V186\" \"V187\" \"V188\" \"V189\" \"V190\"\n",
       "[191] \"V191\" \"V192\" \"V193\" \"V194\" \"V195\" \"V196\" \"V197\" \"V198\" \"V199\" \"V200\"\n",
       "[201] \"V201\" \"V202\" \"V203\" \"V204\" \"V205\" \"V206\" \"V207\" \"V208\" \"V209\" \"V210\"\n",
       "[211] \"V211\" \"V212\" \"V213\" \"V214\" \"V215\" \"V216\" \"V217\" \"V218\" \"V219\" \"V220\"\n",
       "[221] \"V221\" \"V222\" \"V223\" \"V224\" \"V225\" \"V226\" \"V227\" \"V228\" \"V229\" \"V230\"\n",
       "[231] \"V231\" \"V232\" \"V233\" \"V234\" \"V235\" \"V236\" \"V237\" \"V238\" \"V239\" \"V240\"\n",
       "[241] \"V241\" \"V242\" \"V243\" \"V244\" \"V245\" \"V246\" \"V247\" \"V248\" \"V249\" \"V250\"\n",
       "[251] \"V251\" \"V252\" \"V253\" \"V254\" \"V255\" \"V256\" \"V257\""
      ]
     },
     "execution_count": 12,
     "metadata": {
     },
     "output_type": "execute_result"
    }
   ],
   "source": [
    "colnames(data.test)"
   ]
  },
  {
   "cell_type": "code",
   "execution_count": 13,
   "metadata": {
    "collapsed": false
   },
   "outputs": [
    {
     "name": "stderr",
     "output_type": "stream",
     "text": [
      "WARNING: Some output was deleted.\n"
     ]
    }
   ],
   "source": [
    "summary(data.test)"
   ]
  },
  {
   "cell_type": "markdown",
   "metadata": {
    "collapsed": false
   },
   "source": [
    "###### * Les valeurs manquantes:"
   ]
  },
  {
   "cell_type": "code",
   "execution_count": 14,
   "metadata": {
    "collapsed": false
   },
   "outputs": [
    {
     "data": {
      "text/html": [
       "0"
      ],
      "text/latex": [
       "0"
      ],
      "text/markdown": [
       "0"
      ],
      "text/plain": [
       "[1] 0"
      ]
     },
     "execution_count": 14,
     "metadata": {
     },
     "output_type": "execute_result"
    }
   ],
   "source": [
    "sum(is.na(data.test))"
   ]
  },
  {
   "cell_type": "code",
   "execution_count": 15,
   "metadata": {
    "collapsed": false
   },
   "outputs": [
    {
     "data": {
      "text/html": [
       "0"
      ],
      "text/latex": [
       "0"
      ],
      "text/markdown": [
       "0"
      ],
      "text/plain": [
       "[1] 0"
      ]
     },
     "execution_count": 15,
     "metadata": {
     },
     "output_type": "execute_result"
    }
   ],
   "source": [
    "sum(is.na(data.train))"
   ]
  },
  {
   "cell_type": "markdown",
   "metadata": {
    "collapsed": false
   },
   "source": [
    "###### choix des digits: J'ai choisi les digit 9 et 7"
   ]
  },
  {
   "cell_type": "code",
   "execution_count": 16,
   "metadata": {
    "collapsed": false
   },
   "outputs": [
   ],
   "source": [
    "dataTrain=data.train[data.train[,\"V1\"]==9 | data.train[,\"V1\"]==7,]\n",
    "dataTest=data.test[data.test[,\"V1\"]==9 | data.test[,\"V1\"]==7,]"
   ]
  },
  {
   "cell_type": "code",
   "execution_count": 17,
   "metadata": {
    "collapsed": false,
    "scrolled": true
   },
   "outputs": [
    {
     "data": {
      "text/html": [
       "<ol class=list-inline>\n",
       "\t<li>1289</li>\n",
       "\t<li>257</li>\n",
       "</ol>\n"
      ],
      "text/latex": [
       "\\begin{enumerate*}\n",
       "\\item 1289\n",
       "\\item 257\n",
       "\\end{enumerate*}\n"
      ],
      "text/markdown": [
       "1. 1289\n",
       "2. 257\n",
       "\n",
       "\n"
      ],
      "text/plain": [
       "[1] 1289  257"
      ]
     },
     "execution_count": 17,
     "metadata": {
     },
     "output_type": "execute_result"
    },
    {
     "data": {
      "text/html": [
       "<ol class=list-inline>\n",
       "\t<li>324</li>\n",
       "\t<li>257</li>\n",
       "</ol>\n"
      ],
      "text/latex": [
       "\\begin{enumerate*}\n",
       "\\item 324\n",
       "\\item 257\n",
       "\\end{enumerate*}\n"
      ],
      "text/markdown": [
       "1. 324\n",
       "2. 257\n",
       "\n",
       "\n"
      ],
      "text/plain": [
       "[1] 324 257"
      ]
     },
     "execution_count": 17,
     "metadata": {
     },
     "output_type": "execute_result"
    }
   ],
   "source": [
    "dim(dataTrain)\n",
    "dim(dataTest)"
   ]
  },
  {
   "cell_type": "markdown",
   "metadata": {
    "collapsed": false
   },
   "source": [
    "###### Transformation en facteur des premières colonnes\n"
   ]
  },
  {
   "cell_type": "code",
   "execution_count": 18,
   "metadata": {
    "collapsed": false
   },
   "outputs": [
    {
     "name": "stdout",
     "output_type": "stream",
     "text": [
      "[1] \"factor\"\n"
     ]
    },
    {
     "name": "stdout",
     "output_type": "stream",
     "text": [
      "[1] \"7\" \"9\"\n"
     ]
    }
   ],
   "source": [
    "dataTrain[, 1] <- as.factor(dataTrain[, 1]) # en facteur(catégorie)\n",
    "print(class(dataTrain[, 1]))\n",
    "print(levels(dataTrain[, 1]))"
   ]
  },
  {
   "cell_type": "code",
   "execution_count": 19,
   "metadata": {
    "collapsed": false,
    "scrolled": true
   },
   "outputs": [
    {
     "name": "stderr",
     "output_type": "stream",
     "text": [
      "WARNING: Some output was deleted.\n"
     ]
    }
   ],
   "source": [
    "sapply(dataTrain[1, ], class)"
   ]
  },
  {
   "cell_type": "code",
   "execution_count": 20,
   "metadata": {
    "collapsed": false
   },
   "outputs": [
    {
     "data": {
      "text/html": [
       "'factor'"
      ],
      "text/latex": [
       "'factor'"
      ],
      "text/markdown": [
       "'factor'"
      ],
      "text/plain": [
       "[1] \"factor\""
      ]
     },
     "execution_count": 20,
     "metadata": {
     },
     "output_type": "execute_result"
    },
    {
     "name": "stdout",
     "output_type": "stream",
     "text": [
      "[1] \"factor\"\n"
     ]
    },
    {
     "name": "stdout",
     "output_type": "stream",
     "text": [
      "[1] \"7\" \"9\"\n"
     ]
    }
   ],
   "source": [
    "dataTest[, 1] <- as.factor(dataTest[, 1]) # en facteur(catégorie)\n",
    "class(dataTest[, 1])\n",
    "print(class(dataTest[, 1]))\n",
    "print(levels(dataTest[, 1]))"
   ]
  },
  {
   "cell_type": "code",
   "execution_count": 21,
   "metadata": {
    "collapsed": false,
    "scrolled": true
   },
   "outputs": [
    {
     "name": "stderr",
     "output_type": "stream",
     "text": [
      "WARNING: Some output was deleted.\n"
     ]
    }
   ],
   "source": [
    "sapply(dataTest[1, ], class)\n"
   ]
  },
  {
   "cell_type": "markdown",
   "metadata": {
    "collapsed": false
   },
   "source": [
    "## III- Les Models:"
   ]
  },
  {
   "cell_type": "markdown",
   "metadata": {
    "collapsed": false
   },
   "source": [
    "##### 1-Regression logistique:"
   ]
  },
  {
   "cell_type": "code",
   "execution_count": 22,
   "metadata": {
    "collapsed": false
   },
   "outputs": [
    {
     "name": "stderr",
     "output_type": "stream",
     "text": [
      "Loading required package: lattice\n"
     ]
    },
    {
     "name": "stderr",
     "output_type": "stream",
     "text": [
      "Loading required package: ggplot2\n"
     ]
    }
   ],
   "source": [
    "library(caret) # sert à charger le package caret préalablement installé\n",
    "library (e1071)#"
   ]
  },
  {
   "cell_type": "code",
   "execution_count": 23,
   "metadata": {
    "collapsed": false
   },
   "outputs": [
    {
     "name": "stderr",
     "output_type": "stream",
     "text": [
      "Warning message:\n",
      "“glm.fit: fitted probabilities numerically 0 or 1 occurred”"
     ]
    },
    {
     "name": "stderr",
     "output_type": "stream",
     "text": [
      "Warning message in predict.lm(object, newdata, se.fit, scale = 1, type = if (type == :\n",
      "“prediction from a rank-deficient fit may be misleading”"
     ]
    },
    {
     "name": "stderr",
     "output_type": "stream",
     "text": [
      "Warning message:\n",
      "“glm.fit: algorithm did not converge”"
     ]
    },
    {
     "name": "stderr",
     "output_type": "stream",
     "text": [
      "Warning message:\n",
      "“glm.fit: fitted probabilities numerically 0 or 1 occurred”"
     ]
    },
    {
     "name": "stderr",
     "output_type": "stream",
     "text": [
      "Warning message in predict.lm(object, newdata, se.fit, scale = 1, type = if (type == :\n",
      "“prediction from a rank-deficient fit may be misleading”"
     ]
    },
    {
     "name": "stderr",
     "output_type": "stream",
     "text": [
      "Warning message:\n",
      "“glm.fit: algorithm did not converge”"
     ]
    },
    {
     "name": "stderr",
     "output_type": "stream",
     "text": [
      "Warning message:\n",
      "“glm.fit: fitted probabilities numerically 0 or 1 occurred”"
     ]
    },
    {
     "name": "stderr",
     "output_type": "stream",
     "text": [
      "Warning message in predict.lm(object, newdata, se.fit, scale = 1, type = if (type == :\n",
      "“prediction from a rank-deficient fit may be misleading”"
     ]
    },
    {
     "name": "stderr",
     "output_type": "stream",
     "text": [
      "Warning message:\n",
      "“glm.fit: algorithm did not converge”"
     ]
    },
    {
     "name": "stderr",
     "output_type": "stream",
     "text": [
      "Warning message:\n",
      "“glm.fit: fitted probabilities numerically 0 or 1 occurred”"
     ]
    },
    {
     "name": "stderr",
     "output_type": "stream",
     "text": [
      "Warning message in predict.lm(object, newdata, se.fit, scale = 1, type = if (type == :\n",
      "“prediction from a rank-deficient fit may be misleading”"
     ]
    },
    {
     "name": "stderr",
     "output_type": "stream",
     "text": [
      "Warning message:\n",
      "“glm.fit: algorithm did not converge”"
     ]
    },
    {
     "name": "stderr",
     "output_type": "stream",
     "text": [
      "Warning message:\n",
      "“glm.fit: fitted probabilities numerically 0 or 1 occurred”"
     ]
    },
    {
     "name": "stderr",
     "output_type": "stream",
     "text": [
      "Warning message in predict.lm(object, newdata, se.fit, scale = 1, type = if (type == :\n",
      "“prediction from a rank-deficient fit may be misleading”"
     ]
    },
    {
     "name": "stderr",
     "output_type": "stream",
     "text": [
      "Warning message:\n",
      "“glm.fit: algorithm did not converge”"
     ]
    },
    {
     "name": "stderr",
     "output_type": "stream",
     "text": [
      "Warning message:\n",
      "“glm.fit: fitted probabilities numerically 0 or 1 occurred”"
     ]
    },
    {
     "name": "stderr",
     "output_type": "stream",
     "text": [
      "Warning message in predict.lm(object, newdata, se.fit, scale = 1, type = if (type == :\n",
      "“prediction from a rank-deficient fit may be misleading”"
     ]
    },
    {
     "name": "stderr",
     "output_type": "stream",
     "text": [
      "Warning message:\n",
      "“glm.fit: algorithm did not converge”"
     ]
    },
    {
     "name": "stderr",
     "output_type": "stream",
     "text": [
      "Warning message:\n",
      "“glm.fit: fitted probabilities numerically 0 or 1 occurred”"
     ]
    },
    {
     "name": "stderr",
     "output_type": "stream",
     "text": [
      "Warning message in predict.lm(object, newdata, se.fit, scale = 1, type = if (type == :\n",
      "“prediction from a rank-deficient fit may be misleading”"
     ]
    },
    {
     "name": "stderr",
     "output_type": "stream",
     "text": [
      "Warning message:\n",
      "“glm.fit: algorithm did not converge”"
     ]
    },
    {
     "name": "stderr",
     "output_type": "stream",
     "text": [
      "Warning message:\n",
      "“glm.fit: fitted probabilities numerically 0 or 1 occurred”"
     ]
    },
    {
     "name": "stderr",
     "output_type": "stream",
     "text": [
      "Warning message in predict.lm(object, newdata, se.fit, scale = 1, type = if (type == :\n",
      "“prediction from a rank-deficient fit may be misleading”"
     ]
    },
    {
     "name": "stderr",
     "output_type": "stream",
     "text": [
      "Warning message:\n",
      "“glm.fit: algorithm did not converge”"
     ]
    },
    {
     "name": "stderr",
     "output_type": "stream",
     "text": [
      "Warning message:\n",
      "“glm.fit: fitted probabilities numerically 0 or 1 occurred”"
     ]
    },
    {
     "name": "stderr",
     "output_type": "stream",
     "text": [
      "Warning message in predict.lm(object, newdata, se.fit, scale = 1, type = if (type == :\n",
      "“prediction from a rank-deficient fit may be misleading”"
     ]
    },
    {
     "name": "stderr",
     "output_type": "stream",
     "text": [
      "Warning message:\n",
      "“glm.fit: algorithm did not converge”"
     ]
    },
    {
     "name": "stderr",
     "output_type": "stream",
     "text": [
      "Warning message:\n",
      "“glm.fit: fitted probabilities numerically 0 or 1 occurred”"
     ]
    },
    {
     "name": "stderr",
     "output_type": "stream",
     "text": [
      "Warning message in predict.lm(object, newdata, se.fit, scale = 1, type = if (type == :\n",
      "“prediction from a rank-deficient fit may be misleading”"
     ]
    },
    {
     "name": "stderr",
     "output_type": "stream",
     "text": [
      "Warning message:\n",
      "“glm.fit: algorithm did not converge”"
     ]
    },
    {
     "name": "stderr",
     "output_type": "stream",
     "text": [
      "Warning message:\n",
      "“glm.fit: fitted probabilities numerically 0 or 1 occurred”"
     ]
    },
    {
     "name": "stderr",
     "output_type": "stream",
     "text": [
      "Warning message in predict.lm(object, newdata, se.fit, scale = 1, type = if (type == :\n",
      "“prediction from a rank-deficient fit may be misleading”"
     ]
    },
    {
     "name": "stderr",
     "output_type": "stream",
     "text": [
      "Warning message:\n",
      "“glm.fit: algorithm did not converge”"
     ]
    },
    {
     "name": "stderr",
     "output_type": "stream",
     "text": [
      "Warning message:\n",
      "“glm.fit: fitted probabilities numerically 0 or 1 occurred”"
     ]
    },
    {
     "name": "stderr",
     "output_type": "stream",
     "text": [
      "Warning message in predict.lm(object, newdata, se.fit, scale = 1, type = if (type == :\n",
      "“prediction from a rank-deficient fit may be misleading”"
     ]
    },
    {
     "name": "stderr",
     "output_type": "stream",
     "text": [
      "Warning message:\n",
      "“glm.fit: algorithm did not converge”"
     ]
    },
    {
     "name": "stderr",
     "output_type": "stream",
     "text": [
      "Warning message:\n",
      "“glm.fit: fitted probabilities numerically 0 or 1 occurred”"
     ]
    },
    {
     "name": "stderr",
     "output_type": "stream",
     "text": [
      "Warning message in predict.lm(object, newdata, se.fit, scale = 1, type = if (type == :\n",
      "“prediction from a rank-deficient fit may be misleading”"
     ]
    },
    {
     "name": "stderr",
     "output_type": "stream",
     "text": [
      "Warning message:\n",
      "“glm.fit: algorithm did not converge”"
     ]
    },
    {
     "name": "stderr",
     "output_type": "stream",
     "text": [
      "Warning message:\n",
      "“glm.fit: fitted probabilities numerically 0 or 1 occurred”"
     ]
    },
    {
     "name": "stderr",
     "output_type": "stream",
     "text": [
      "Warning message in predict.lm(object, newdata, se.fit, scale = 1, type = if (type == :\n",
      "“prediction from a rank-deficient fit may be misleading”"
     ]
    },
    {
     "name": "stderr",
     "output_type": "stream",
     "text": [
      "Warning message:\n",
      "“glm.fit: algorithm did not converge”"
     ]
    },
    {
     "name": "stderr",
     "output_type": "stream",
     "text": [
      "Warning message:\n",
      "“glm.fit: fitted probabilities numerically 0 or 1 occurred”"
     ]
    },
    {
     "name": "stderr",
     "output_type": "stream",
     "text": [
      "Warning message in predict.lm(object, newdata, se.fit, scale = 1, type = if (type == :\n",
      "“prediction from a rank-deficient fit may be misleading”"
     ]
    },
    {
     "name": "stderr",
     "output_type": "stream",
     "text": [
      "Warning message:\n",
      "“glm.fit: algorithm did not converge”"
     ]
    },
    {
     "name": "stderr",
     "output_type": "stream",
     "text": [
      "Warning message:\n",
      "“glm.fit: fitted probabilities numerically 0 or 1 occurred”"
     ]
    },
    {
     "name": "stderr",
     "output_type": "stream",
     "text": [
      "Warning message in predict.lm(object, newdata, se.fit, scale = 1, type = if (type == :\n",
      "“prediction from a rank-deficient fit may be misleading”"
     ]
    },
    {
     "name": "stderr",
     "output_type": "stream",
     "text": [
      "Warning message:\n",
      "“glm.fit: algorithm did not converge”"
     ]
    },
    {
     "name": "stderr",
     "output_type": "stream",
     "text": [
      "Warning message:\n",
      "“glm.fit: fitted probabilities numerically 0 or 1 occurred”"
     ]
    },
    {
     "name": "stderr",
     "output_type": "stream",
     "text": [
      "Warning message in predict.lm(object, newdata, se.fit, scale = 1, type = if (type == :\n",
      "“prediction from a rank-deficient fit may be misleading”"
     ]
    },
    {
     "name": "stderr",
     "output_type": "stream",
     "text": [
      "Warning message:\n",
      "“glm.fit: algorithm did not converge”"
     ]
    },
    {
     "name": "stderr",
     "output_type": "stream",
     "text": [
      "Warning message:\n",
      "“glm.fit: fitted probabilities numerically 0 or 1 occurred”"
     ]
    },
    {
     "name": "stderr",
     "output_type": "stream",
     "text": [
      "Warning message in predict.lm(object, newdata, se.fit, scale = 1, type = if (type == :\n",
      "“prediction from a rank-deficient fit may be misleading”"
     ]
    },
    {
     "name": "stderr",
     "output_type": "stream",
     "text": [
      "Warning message:\n",
      "“glm.fit: algorithm did not converge”"
     ]
    },
    {
     "name": "stderr",
     "output_type": "stream",
     "text": [
      "Warning message:\n",
      "“glm.fit: fitted probabilities numerically 0 or 1 occurred”"
     ]
    },
    {
     "name": "stderr",
     "output_type": "stream",
     "text": [
      "Warning message in predict.lm(object, newdata, se.fit, scale = 1, type = if (type == :\n",
      "“prediction from a rank-deficient fit may be misleading”"
     ]
    },
    {
     "name": "stderr",
     "output_type": "stream",
     "text": [
      "Warning message:\n",
      "“glm.fit: algorithm did not converge”"
     ]
    },
    {
     "name": "stderr",
     "output_type": "stream",
     "text": [
      "Warning message:\n",
      "“glm.fit: fitted probabilities numerically 0 or 1 occurred”"
     ]
    },
    {
     "name": "stderr",
     "output_type": "stream",
     "text": [
      "Warning message in predict.lm(object, newdata, se.fit, scale = 1, type = if (type == :\n",
      "“prediction from a rank-deficient fit may be misleading”"
     ]
    },
    {
     "name": "stderr",
     "output_type": "stream",
     "text": [
      "Warning message:\n",
      "“glm.fit: algorithm did not converge”"
     ]
    },
    {
     "name": "stderr",
     "output_type": "stream",
     "text": [
      "Warning message:\n",
      "“glm.fit: fitted probabilities numerically 0 or 1 occurred”"
     ]
    },
    {
     "name": "stderr",
     "output_type": "stream",
     "text": [
      "Warning message in predict.lm(object, newdata, se.fit, scale = 1, type = if (type == :\n",
      "“prediction from a rank-deficient fit may be misleading”"
     ]
    },
    {
     "name": "stderr",
     "output_type": "stream",
     "text": [
      "Warning message:\n",
      "“glm.fit: algorithm did not converge”"
     ]
    },
    {
     "name": "stderr",
     "output_type": "stream",
     "text": [
      "Warning message:\n",
      "“glm.fit: fitted probabilities numerically 0 or 1 occurred”"
     ]
    },
    {
     "name": "stderr",
     "output_type": "stream",
     "text": [
      "Warning message in predict.lm(object, newdata, se.fit, scale = 1, type = if (type == :\n",
      "“prediction from a rank-deficient fit may be misleading”"
     ]
    },
    {
     "name": "stderr",
     "output_type": "stream",
     "text": [
      "Warning message:\n",
      "“glm.fit: algorithm did not converge”"
     ]
    },
    {
     "name": "stderr",
     "output_type": "stream",
     "text": [
      "Warning message:\n",
      "“glm.fit: fitted probabilities numerically 0 or 1 occurred”"
     ]
    },
    {
     "name": "stderr",
     "output_type": "stream",
     "text": [
      "Warning message in predict.lm(object, newdata, se.fit, scale = 1, type = if (type == :\n",
      "“prediction from a rank-deficient fit may be misleading”"
     ]
    },
    {
     "name": "stderr",
     "output_type": "stream",
     "text": [
      "Warning message:\n",
      "“glm.fit: algorithm did not converge”"
     ]
    },
    {
     "name": "stderr",
     "output_type": "stream",
     "text": [
      "Warning message:\n",
      "“glm.fit: fitted probabilities numerically 0 or 1 occurred”"
     ]
    },
    {
     "name": "stderr",
     "output_type": "stream",
     "text": [
      "Warning message in predict.lm(object, newdata, se.fit, scale = 1, type = if (type == :\n",
      "“prediction from a rank-deficient fit may be misleading”"
     ]
    },
    {
     "name": "stderr",
     "output_type": "stream",
     "text": [
      "Warning message:\n",
      "“glm.fit: algorithm did not converge”"
     ]
    },
    {
     "name": "stderr",
     "output_type": "stream",
     "text": [
      "Warning message:\n",
      "“glm.fit: fitted probabilities numerically 0 or 1 occurred”"
     ]
    },
    {
     "name": "stderr",
     "output_type": "stream",
     "text": [
      "Warning message in predict.lm(object, newdata, se.fit, scale = 1, type = if (type == :\n",
      "“prediction from a rank-deficient fit may be misleading”"
     ]
    },
    {
     "name": "stderr",
     "output_type": "stream",
     "text": [
      "Warning message:\n",
      "“glm.fit: algorithm did not converge”"
     ]
    },
    {
     "name": "stderr",
     "output_type": "stream",
     "text": [
      "Warning message:\n",
      "“glm.fit: fitted probabilities numerically 0 or 1 occurred”"
     ]
    }
   ],
   "source": [
    "logit.fit <- train(V1~., data = dataTrain,method=\"glm\")"
   ]
  },
  {
   "cell_type": "code",
   "execution_count": 24,
   "metadata": {
    "collapsed": false
   },
   "outputs": [
    {
     "name": "stderr",
     "output_type": "stream",
     "text": [
      "Warning message in predict.lm(object, newdata, se.fit, scale = 1, type = if (type == :\n",
      "“prediction from a rank-deficient fit may be misleading”"
     ]
    }
   ],
   "source": [
    "pred <- predict(logit.fit,newdata=dataTest)"
   ]
  },
  {
   "cell_type": "code",
   "execution_count": 25,
   "metadata": {
    "collapsed": false
   },
   "outputs": [
    {
     "data": {
      "text/plain": [
       "   pred\n",
       "      7   9\n",
       "  7 131  16\n",
       "  9   4 173"
      ]
     },
     "execution_count": 25,
     "metadata": {
     },
     "output_type": "execute_result"
    }
   ],
   "source": [
    "table_mat <- table(dataTest$V1, pred)\n",
    "table_mat"
   ]
  },
  {
   "cell_type": "code",
   "execution_count": 26,
   "metadata": {
    "collapsed": false
   },
   "outputs": [
    {
     "data": {
      "text/plain": [
       "Confusion Matrix and Statistics\n",
       "\n",
       "          Reference\n",
       "Prediction   7   9\n",
       "         7 131   4\n",
       "         9  16 173\n",
       "                                          \n",
       "               Accuracy : 0.9383          \n",
       "                 95% CI : (0.9063, 0.9619)\n",
       "    No Information Rate : 0.5463          \n",
       "    P-Value [Acc > NIR] : < 2e-16         \n",
       "                                          \n",
       "                  Kappa : 0.8746          \n",
       "                                          \n",
       " Mcnemar's Test P-Value : 0.01391         \n",
       "                                          \n",
       "            Sensitivity : 0.8912          \n",
       "            Specificity : 0.9774          \n",
       "         Pos Pred Value : 0.9704          \n",
       "         Neg Pred Value : 0.9153          \n",
       "             Prevalence : 0.4537          \n",
       "         Detection Rate : 0.4043          \n",
       "   Detection Prevalence : 0.4167          \n",
       "      Balanced Accuracy : 0.9343          \n",
       "                                          \n",
       "       'Positive' Class : 7               \n",
       "                                          "
      ]
     },
     "execution_count": 26,
     "metadata": {
     },
     "output_type": "execute_result"
    }
   ],
   "source": [
    "mat <- confusionMatrix(data=pred,reference=dataTest$V1)\n",
    "mat"
   ]
  },
  {
   "cell_type": "markdown",
   "metadata": {
    "collapsed": false
   },
   "source": [
    "###### 2-Naive bayésienne:"
   ]
  },
  {
   "cell_type": "code",
   "execution_count": 27,
   "metadata": {
    "collapsed": false
   },
   "outputs": [
   ],
   "source": [
    "nb.fit <- naiveBayes(V1 ~ ., data = dataTrain)\n",
    "nb.pred <- predict(nb.fit,newdata=dataTest)"
   ]
  },
  {
   "cell_type": "code",
   "execution_count": 28,
   "metadata": {
    "collapsed": false
   },
   "outputs": [
    {
     "data": {
      "text/plain": [
       "   nb.pred\n",
       "      7   9\n",
       "  7 129  18\n",
       "  9  10 167"
      ]
     },
     "execution_count": 28,
     "metadata": {
     },
     "output_type": "execute_result"
    }
   ],
   "source": [
    "table_mat <- table(dataTest$V1, nb.pred)\n",
    "table_mat"
   ]
  },
  {
   "cell_type": "code",
   "execution_count": 29,
   "metadata": {
    "collapsed": false
   },
   "outputs": [
    {
     "data": {
      "text/plain": [
       "Confusion Matrix and Statistics\n",
       "\n",
       "          Reference\n",
       "Prediction   7   9\n",
       "         7 129  10\n",
       "         9  18 167\n",
       "                                          \n",
       "               Accuracy : 0.9136          \n",
       "                 95% CI : (0.8775, 0.9418)\n",
       "    No Information Rate : 0.5463          \n",
       "    P-Value [Acc > NIR] : <2e-16          \n",
       "                                          \n",
       "                  Kappa : 0.8249          \n",
       "                                          \n",
       " Mcnemar's Test P-Value : 0.1859          \n",
       "                                          \n",
       "            Sensitivity : 0.8776          \n",
       "            Specificity : 0.9435          \n",
       "         Pos Pred Value : 0.9281          \n",
       "         Neg Pred Value : 0.9027          \n",
       "             Prevalence : 0.4537          \n",
       "         Detection Rate : 0.3981          \n",
       "   Detection Prevalence : 0.4290          \n",
       "      Balanced Accuracy : 0.9105          \n",
       "                                          \n",
       "       'Positive' Class : 7               \n",
       "                                          "
      ]
     },
     "execution_count": 29,
     "metadata": {
     },
     "output_type": "execute_result"
    }
   ],
   "source": [
    "nb.mat <- confusionMatrix(data=nb.pred,reference=dataTest$V1)\n",
    "nb.mat"
   ]
  },
  {
   "cell_type": "markdown",
   "metadata": {
    "collapsed": false
   },
   "source": [
    "##### 3) Decision Tree:"
   ]
  },
  {
   "cell_type": "code",
   "execution_count": 30,
   "metadata": {
    "collapsed": false
   },
   "outputs": [
    {
     "data": {
      "image/png": "[encoded data removed]",
      "text/plain": [
       "plot without title"
      ]
     },
     "execution_count": 30,
     "metadata": {
     },
     "output_type": "execute_result"
    }
   ],
   "source": [
    "library(rpart)\n",
    "library(rpart.plot)\n",
    "fit <- rpart(V1~., data = dataTrain, method = 'class')\n",
    "rpart.plot(fit, extra = 106)"
   ]
  },
  {
   "cell_type": "code",
   "execution_count": 31,
   "metadata": {
    "collapsed": false
   },
   "outputs": [
   ],
   "source": [
    "predict_decisionTree <-predict(fit, dataTest, type = 'class')"
   ]
  },
  {
   "cell_type": "code",
   "execution_count": 32,
   "metadata": {
    "collapsed": false
   },
   "outputs": [
    {
     "data": {
      "text/plain": [
       "   predict_decisionTree\n",
       "      7   9\n",
       "  7 138   9\n",
       "  9   4 173"
      ]
     },
     "execution_count": 32,
     "metadata": {
     },
     "output_type": "execute_result"
    }
   ],
   "source": [
    "table_mat <- table(dataTest$V1, predict_decisionTree)\n",
    "table_mat"
   ]
  },
  {
   "cell_type": "code",
   "execution_count": 33,
   "metadata": {
    "collapsed": false
   },
   "outputs": [
    {
     "data": {
      "text/plain": [
       "Confusion Matrix and Statistics\n",
       "\n",
       "          Reference\n",
       "Prediction   7   9\n",
       "         7 138   4\n",
       "         9   9 173\n",
       "                                          \n",
       "               Accuracy : 0.9599          \n",
       "                 95% CI : (0.9324, 0.9785)\n",
       "    No Information Rate : 0.5463          \n",
       "    P-Value [Acc > NIR] : <2e-16          \n",
       "                                          \n",
       "                  Kappa : 0.9188          \n",
       "                                          \n",
       " Mcnemar's Test P-Value : 0.2673          \n",
       "                                          \n",
       "            Sensitivity : 0.9388          \n",
       "            Specificity : 0.9774          \n",
       "         Pos Pred Value : 0.9718          \n",
       "         Neg Pred Value : 0.9505          \n",
       "             Prevalence : 0.4537          \n",
       "         Detection Rate : 0.4259          \n",
       "   Detection Prevalence : 0.4383          \n",
       "      Balanced Accuracy : 0.9581          \n",
       "                                          \n",
       "       'Positive' Class : 7               \n",
       "                                          "
      ]
     },
     "execution_count": 33,
     "metadata": {
     },
     "output_type": "execute_result"
    }
   ],
   "source": [
    "mat <- confusionMatrix(data=predict_decisionTree,reference=dataTest$V1)\n",
    "mat"
   ]
  },
  {
   "cell_type": "markdown",
   "metadata": {
    "collapsed": false
   },
   "source": [
    "###### --> Avec les hyper paramètres:"
   ]
  },
  {
   "cell_type": "code",
   "execution_count": 44,
   "metadata": {
    "collapsed": false
   },
   "outputs": [
   ],
   "source": [
    "accuracy_fonct <- function(fit) {\n",
    "    pred <- predict(fit, dataTest, type = 'class')\n",
    "    table_mat <- table(dataTest$V1, pred)\n",
    "    accuracy_Test <- sum(diag(table_mat)) / sum(table_mat)\n",
    "    accuracy_Test\n",
    "}"
   ]
  },
  {
   "cell_type": "code",
   "execution_count": 45,
   "metadata": {
    "collapsed": false
   },
   "outputs": [
    {
     "data": {
      "text/html": [
       "0.966049382716049"
      ],
      "text/latex": [
       "0.966049382716049"
      ],
      "text/markdown": [
       "0.966049382716049"
      ],
      "text/plain": [
       "[1] 0.9660494"
      ]
     },
     "execution_count": 45,
     "metadata": {
     },
     "output_type": "execute_result"
    }
   ],
   "source": [
    "control <- rpart.control(minsplit = 4,\n",
    "    minbucket = round(5 / 3),\n",
    "    maxdepth = 20,\n",
    "    cp = 0)\n",
    "tune_fit <- rpart(V1~., data = dataTrain, method = 'class', control = control)\n",
    "accuracy_fonct(tune_fit)"
   ]
  },
  {
   "cell_type": "code",
   "execution_count": 0,
   "metadata": {
    "collapsed": false
   },
   "outputs": [
   ],
   "source": [
   ]
  },
  {
   "cell_type": "code",
   "execution_count": 0,
   "metadata": {
    "collapsed": false
   },
   "outputs": [
   ],
   "source": [
   ]
  },
  {
   "cell_type": "code",
   "execution_count": 0,
   "metadata": {
    "collapsed": false
   },
   "outputs": [
   ],
   "source": [
   ]
  },
  {
   "cell_type": "code",
   "execution_count": 0,
   "metadata": {
    "collapsed": false
   },
   "outputs": [
   ],
   "source": [
   ]
  },
  {
   "cell_type": "code",
   "execution_count": 0,
   "metadata": {
    "collapsed": false
   },
   "outputs": [
   ],
   "source": [
   ]
  },
  {
   "cell_type": "code",
   "execution_count": 0,
   "metadata": {
    "collapsed": false
   },
   "outputs": [
   ],
   "source": [
   ]
  },
  {
   "cell_type": "code",
   "execution_count": 0,
   "metadata": {
    "collapsed": false
   },
   "outputs": [
   ],
   "source": [
   ]
  },
  {
   "cell_type": "markdown",
   "metadata": {
    "collapsed": false
   },
   "source": [
   ]
  },
  {
   "cell_type": "code",
   "execution_count": 0,
   "metadata": {
    "collapsed": false
   },
   "outputs": [
   ],
   "source": [
   ]
  },
  {
   "cell_type": "code",
   "execution_count": 0,
   "metadata": {
    "collapsed": false
   },
   "outputs": [
   ],
   "source": [
   ]
  }
 ],
 "metadata": {
  "kernelspec": {
   "display_name": "R (R-Project)",
   "language": "r",
   "metadata": {
    "cocalc": {
     "description": "R statistical programming language",
     "priority": 10,
     "url": "https://www.r-project.org/"
    }
   },
   "name": "ir"
  },
  "language_info": {
   "codemirror_mode": "r",
   "file_extension": ".r",
   "mimetype": "text/x-r-source",
   "name": "R",
   "pygments_lexer": "r",
   "version": "3.6.1"
  }
 },
 "nbformat": 4,
 "nbformat_minor": 0
}